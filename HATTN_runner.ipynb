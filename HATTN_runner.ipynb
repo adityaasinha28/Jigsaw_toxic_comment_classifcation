{
 "cells": [
  {
   "cell_type": "markdown",
   "metadata": {},
   "source": [
    "### HAN's\n",
    "\n",
    "Implementation based on paper here:\n",
    "http://aclweb.org/anthology/N/N16/N16-1174.pdf\n",
    "http://aclweb.org/anthology/D15-1167\n",
    "\n",
    "Inspiration for code taken from here:\n",
    "https://github.com/richliao/textClassifier/blob/master/textClassifierHATT.py"
   ]
  },
  {
   "cell_type": "code",
   "execution_count": 1,
   "metadata": {},
   "outputs": [
    {
     "name": "stderr",
     "output_type": "stream",
     "text": [
      "/home/mohsin/anaconda3/lib/python3.6/site-packages/h5py/__init__.py:36: FutureWarning: Conversion of the second argument of issubdtype from `float` to `np.floating` is deprecated. In future, it will be treated as `np.float64 == np.dtype(float).type`.\n",
      "  from ._conv import register_converters as _register_converters\n",
      "Using TensorFlow backend.\n"
     ]
    }
   ],
   "source": [
    "import sys, os, re, csv, codecs, gc, numpy as np, pandas as pd\n",
    "import tensorflow as tf\n",
    "#from keras.preprocessing.text import Tokenizer\n",
    "from keras.preprocessing.sequence import pad_sequences\n",
    "from keras.layers import Dense, Input, Permute, GRU, Conv1D, LSTM, Embedding, Dropout, Activation, CuDNNLSTM, CuDNNGRU, concatenate, Flatten\n",
    "from keras.layers import Bidirectional, GlobalMaxPool1D, GlobalAveragePooling1D, BatchNormalization, SpatialDropout1D, Dot\n",
    "from keras.optimizers import Adam, RMSprop, Nadam\n",
    "from keras.models import Model\n",
    "\n",
    "from keras import initializers, regularizers, constraints, optimizers, layers\n",
    "from keras_tqdm import TQDMNotebookCallback\n",
    "import keras.backend as K\n",
    "from keras.callbacks import LearningRateScheduler\n",
    "from sklearn.model_selection import StratifiedKFold, StratifiedShuffleSplit\n",
    "from sklearn.metrics import roc_auc_score\n",
    "from functools import reduce\n",
    "from keras.layers import Layer, PReLU, SpatialDropout1D, TimeDistributed\n",
    "from keras import initializers\n",
    "from sklearn.model_selection import cross_val_predict\n",
    "\n",
    "from nltk.tokenize import word_tokenize, wordpunct_tokenize, TweetTokenizer, MWETokenizer, ToktokTokenizer, sent_tokenize\n",
    "from nltk.corpus import stopwords\n",
    "\n",
    "import unicodedata\n",
    "from collections import Counter\n",
    "import itertools\n",
    "\n",
    "np.random.seed(786)\n",
    "\n",
    "from SentenceTokenizer import SentenceTokenizer\n",
    "from ZeroMaskedLayer import ZeroMaskedLayer\n",
    "from AttentionLayer import AttentionLayer, AttentionWrapper, AttentionWithContext, Attention\n",
    "from RocAucEvaluation import RocAucEvaluation\n",
    "from HATTN_classifier import HATTNClassifier\n",
    "from utils import outoffold_crossvalidator\n",
    "from importlib import reload"
   ]
  },
  {
   "cell_type": "code",
   "execution_count": 2,
   "metadata": {},
   "outputs": [],
   "source": [
    "import HATTN_classifier\n",
    "reload(HATTN_classifier)\n",
    "from HATTN_classifier import HATTNClassifier"
   ]
  },
  {
   "cell_type": "code",
   "execution_count": 3,
   "metadata": {},
   "outputs": [
    {
     "name": "stdout",
     "output_type": "stream",
     "text": [
      "(159571, 8) (153164, 2)\n"
     ]
    },
    {
     "name": "stderr",
     "output_type": "stream",
     "text": [
      "/home/mohsin/anaconda3/lib/python3.6/site-packages/sklearn/model_selection/_split.py:605: Warning: The least populated class in y has only 2 members, which is too few. The minimum number of members in any class cannot be less than n_splits=10.\n",
      "  % (min_groups, self.n_splits)), Warning)\n"
     ]
    }
   ],
   "source": [
    "path = '../input/'\n",
    "TRAIN_DATA_FILE=f'{path}train.csv'\n",
    "TEST_DATA_FILE=f'{path}test.csv'\n",
    "\n",
    "train = pd.read_csv(TRAIN_DATA_FILE)\n",
    "test = pd.read_csv(TEST_DATA_FILE)\n",
    "\n",
    "print(train.shape, test.shape)\n",
    "\n",
    "list_classes = [\"toxic\", \"severe_toxic\", \"obscene\", \"threat\", \"insult\", \"identity_hate\"]\n",
    "y = train[list_classes].values\n",
    "\n",
    "#Get validation folds\n",
    "train['target_str'] = reduce(lambda x,y: x+y, [train[col].astype(str) for col in list_classes])\n",
    "train['target_str'] = train['target_str'].replace('110101', '000000').replace('110110','000000')\n",
    "cvlist1 = list(StratifiedKFold(n_splits=10, random_state=786).split(train, train['target_str'].astype('category')))\n",
    "cvlist2 = list(StratifiedShuffleSplit(n_splits=5, test_size=0.05, random_state=786).split(train, train['target_str'].astype('category')))"
   ]
  },
  {
   "cell_type": "code",
   "execution_count": 4,
   "metadata": {},
   "outputs": [],
   "source": [
    "import pickle\n",
    "with open(\"../utility/X_train_hattn_v1.pkl\", \"rb\") as f:\n",
    "    X_train = pickle.load(f)\n",
    "with open(\"../utility/X_test_hattn_v1.pkl\", \"rb\") as f:\n",
    "    X_test = pickle.load(f) \n",
    "with open(\"../utility/embeddings_glove.pkl\", \"rb\") as f:\n",
    "    embedding_matrix = pickle.load(f)    "
   ]
  },
  {
   "cell_type": "code",
   "execution_count": 5,
   "metadata": {},
   "outputs": [],
   "source": [
    "MAX_FEATURES = 200000\n",
    "MAX_SENTENCE_LEN = 80\n",
    "MAX_SENTENCES = 20"
   ]
  },
  {
   "cell_type": "code",
   "execution_count": 6,
   "metadata": {},
   "outputs": [
    {
     "name": "stdout",
     "output_type": "stream",
     "text": [
      "(159571, 20, 80) (153164, 20, 80)\n"
     ]
    }
   ],
   "source": [
    "print(X_train.shape, X_test.shape)"
   ]
  },
  {
   "cell_type": "code",
   "execution_count": 7,
   "metadata": {},
   "outputs": [],
   "source": [
    "model = HATTNClassifier(MAX_SENTENCE_LEN, MAX_SENTENCES, MAX_FEATURES+1, \n",
    "                       word_embed_dim=300,\n",
    "                       word_spatial_dropout=0.1,\n",
    "                       sent_rnn_dim=300,\n",
    "                       sent_rnn_type='gru',\n",
    "                        sent_bidirectional_flag = True,\n",
    "                        sent_rnn_layers=1,\n",
    "                        doc_rnn_dim = 300,\n",
    "                        doc_rnn_type='gru',\n",
    "                        doc_bidirectional_flag=True,\n",
    "                        doc_rnn_layers=1,\n",
    "                        fc_layers=0,\n",
    "                        batch_size=128,\n",
    "                        epochs = 10,\n",
    "                        optimizer='adam',\n",
    "                        word_embed_kwargs={\"weights\":[embedding_matrix]}\n",
    "                      )"
   ]
  },
  {
   "cell_type": "code",
   "execution_count": null,
   "metadata": {},
   "outputs": [
    {
     "name": "stdout",
     "output_type": "stream",
     "text": [
      "(?, 80, 300)\n",
      "(?, 80, 600)\n",
      "Epoch 1/10\n",
      "143488/143593 [============================>.] - ETA: 0s - loss: 0.0509 - acc: 0.9815\n",
      " ROC-AUC - epoch: 1 - score: 0.987602 \n",
      "\n",
      "\n",
      "Epoch 00001: val_score improved from -inf to 0.98760, saving model to Model_HATTN_base.check\n",
      "143593/143593 [==============================] - 387s 3ms/step - loss: 0.0509 - acc: 0.9815\n",
      "Epoch 2/10\n",
      "143488/143593 [============================>.] - ETA: 0s - loss: 0.0375 - acc: 0.9851\n",
      " ROC-AUC - epoch: 2 - score: 0.989006 \n",
      "\n",
      "\n",
      "Epoch 00002: val_score improved from 0.98760 to 0.98901, saving model to Model_HATTN_base.check\n",
      "143593/143593 [==============================] - 389s 3ms/step - loss: 0.0375 - acc: 0.9851\n",
      "Epoch 3/10\n",
      "143488/143593 [============================>.] - ETA: 0s - loss: 0.0340 - acc: 0.9862\n",
      " ROC-AUC - epoch: 3 - score: 0.988511 \n",
      "\n",
      "\n",
      "Epoch 00003: val_score did not improve\n",
      "143593/143593 [==============================] - 387s 3ms/step - loss: 0.0340 - acc: 0.9862\n",
      "Epoch 4/10\n",
      " 27776/143593 [====>.........................] - ETA: 4:53 - loss: 0.0297 - acc: 0.9877"
     ]
    }
   ],
   "source": [
    "MODEL_IDENTIFIER=\"HATTN_base\"\n",
    "\n",
    "#Initialize model\n",
    "def schedule(epoch):\n",
    "    if epoch == 0:\n",
    "        return 0.0015\n",
    "    if epoch == 1:\n",
    "        return 0.001\n",
    "    if epoch == 2:\n",
    "        return 0.001\n",
    "    return 0.001    \n",
    "\n",
    "callbacks=[LearningRateScheduler(schedule)]\n",
    "    \n",
    "check_filename=\"Model_\"+str(MODEL_IDENTIFIER)+\".check\"\n",
    "y_preds, y_trues, y_test = outoffold_crossvalidator(model, X_train, y, cvlist1, check_filename=check_filename,\n",
    "                                                  predict_test=True, X_test=X_test, callbacks=callbacks, multiinput=False)"
   ]
  },
  {
   "cell_type": "code",
   "execution_count": 185,
   "metadata": {},
   "outputs": [
    {
     "data": {
      "text/plain": [
       "433"
      ]
     },
     "execution_count": 185,
     "metadata": {},
     "output_type": "execute_result"
    }
   ],
   "source": [
    "gc.collect()"
   ]
  },
  {
   "cell_type": "code",
   "execution_count": null,
   "metadata": {},
   "outputs": [],
   "source": []
  }
 ],
 "metadata": {
  "kernelspec": {
   "display_name": "Python 3",
   "language": "python",
   "name": "python3"
  },
  "language_info": {
   "codemirror_mode": {
    "name": "ipython",
    "version": 3
   },
   "file_extension": ".py",
   "mimetype": "text/x-python",
   "name": "python",
   "nbconvert_exporter": "python",
   "pygments_lexer": "ipython3",
   "version": "3.6.4"
  }
 },
 "nbformat": 4,
 "nbformat_minor": 2
}
