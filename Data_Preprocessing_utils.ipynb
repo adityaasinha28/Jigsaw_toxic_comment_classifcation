{
 "cells": [
  {
   "cell_type": "code",
   "execution_count": 1,
   "metadata": {},
   "outputs": [],
   "source": [
    "import pandas as pd\n",
    "import numpy as np\n",
    "\n",
    "from textblob import TextBlob\n",
    "from nltk.tokenize import WordPunctTokenizer, word_tokenize, StanfordSegmenter, sent_tokenize, PunktSentenceTokenizer\n",
    "from nltk.corpus import stopwords\n",
    "\n",
    "import re, os, sys, string, itertools\n",
    "from collections import defaultdict, Counter\n",
    "import unicodedata\n",
    "from tqdm import tqdm, tqdm_notebook\n",
    "import sentencepiece as spm"
   ]
  },
  {
   "cell_type": "code",
   "execution_count": 2,
   "metadata": {},
   "outputs": [],
   "source": [
    "def translate_quoted_words(series):\n",
    "    \"\"\" \n",
    "    This functions replaces words which are written in quotes\n",
    "    with quoted word e.g. \"Damn\" with \"quoted \"Damn\"\"\n",
    "     \"\"\"\n",
    "    reg = re.compile(r'((?<=\")\"[\\w\\s]+\"(?=\"))')\n",
    "    print(\"Total occurences of quoted words {}\".format(series.str.count(reg).sum()))\n",
    "    series = series.str.replace(reg, 'quoted \\\\1')\n",
    "    return series"
   ]
  },
  {
   "cell_type": "code",
   "execution_count": 3,
   "metadata": {},
   "outputs": [],
   "source": [
    "def remove_ips(series):\n",
    "    \"\"\"\n",
    "    Remove all ip addresses\n",
    "    \"\"\"\n",
    "    series = series.copy()\n",
    "    reg = re.compile(r'(([0-9]{1,}\\.){2,}[0-9]{1,})')\n",
    "    print(\"Total unique ip addresses in data are {}\".format(series.str.extract(reg).nunique()))\n",
    "    series = series.str.replace(reg, ' ')\n",
    "    return series"
   ]
  },
  {
   "cell_type": "code",
   "execution_count": 4,
   "metadata": {},
   "outputs": [],
   "source": [
    "def remove_trailing_dates(series):\n",
    "    \"\"\"\n",
    "    Remove date times at the end\n",
    "    \"\"\"\n",
    "    series = series.copy()\n",
    "    return series.str.replace(\"([0-9]{1,2}:[0-9]{1,2},{0,1}\\s[0-9]{1,2}\\s[a-zA-Z]{3,}\\s[0-9]{2,4}\\s\\((utc|UTC)\\))\", \" \")"
   ]
  },
  {
   "cell_type": "code",
   "execution_count": 5,
   "metadata": {},
   "outputs": [],
   "source": [
    "def trim_repitions(series, thresh=5):\n",
    "    \"\"\"\n",
    "    Check if comment has repitions, if more than than repitions then trim at 10 words\n",
    "    \"\"\"\n",
    "    series = series.copy()\n",
    "    total_words = series.str.count(\"\\w+\")\n",
    "    unq_words = series.apply(lambda x: len(np.unique(x.split(' '))))\n",
    "    \n",
    "    rep_inds = total_words/unq_words > thresh\n",
    "    print(\"Total comments with high repitions are {}\".format(sum(rep_inds)))\n",
    "    print(\"Some examples of high reps are {}\".format(series.loc[rep_inds].sample(5).values))\n",
    "    \n",
    "    rep_inds_unq = iter(unq_words.loc[rep_inds])\n",
    "    series.loc[rep_inds] = series[rep_inds].str.split(' ').str.slice(0, next(rep_inds_unq)).str.join(' ')\n",
    "    \n",
    "    print(\"Some corrected sample are {}\".format(series.loc[rep_inds].sample(5).values))\n",
    "    return series"
   ]
  },
  {
   "cell_type": "code",
   "execution_count": 6,
   "metadata": {},
   "outputs": [],
   "source": [
    "def break_oovwords(series, vocab_filename, sp_file):\n",
    "    \"\"\"\n",
    "    Breaks the words which are out of vocab using sentence piece and returns new text\n",
    "    \"\"\"\n",
    "    series = series.copy()\n",
    "    dict_words = set([o.rstrip().rsplit(' ')[0] for o in open(vocab_filename)])\n",
    "    sp = spm.SentencePieceProcessor()\n",
    "    sp.Load(sp_file)\n",
    "    series = series.apply(lambda x: ' '.join(itertools.chain.from_iterable([sp.EncodeAsPieces(word) \n",
    "                                            if word not in dict_words else [word] \n",
    "                                            for word in x.split(' ') ])))\n",
    "    series = series.str.replace(\"▁\", \"\")\n",
    "    return series"
   ]
  },
  {
   "cell_type": "code",
   "execution_count": 7,
   "metadata": {},
   "outputs": [],
   "source": [
    "def preprocess_text(series, remove_ip=True, remove_date_stamps=True, tag_quoted=True, remove_puncts=True, lower=True,\n",
    "                    remove_digits=True, remove_nonchars=True,\n",
    "                   break_oov=True, break_vocab_file=\"\", break_sp_file=\"\", trim_reps=True):\n",
    "    series = series.copy()\n",
    "    series = series.str.replace(r\"\\\\n{1,}\", \" line \")\n",
    "    \n",
    "    if remove_ips:\n",
    "        series = remove_ips(series)\n",
    "        \n",
    "    if remove_date_stamps:\n",
    "        series = remove_trailing_dates(series)\n",
    "        \n",
    "    if tag_quoted:\n",
    "        series = translate_quoted_words(series)\n",
    "        \n",
    "    if remove_puncts:\n",
    "        series = series.str.replace(\"'\", \"\")\n",
    "        series = series.str.translate(str.maketrans({s:\" \" for s in string.punctuation}))\n",
    "        \n",
    "    if lower:\n",
    "        series = series.str.lower()\n",
    "        \n",
    "    if remove_digits:\n",
    "        series = series.str.replace(r\"\\d\", \"\")\n",
    "    \n",
    "    if remove_nonchars:\n",
    "        series = series.str.replace(r\"[^a-zA-Z0-9.,\\\"!]+\", \" \")\n",
    "        \n",
    "    if break_oov:\n",
    "        series = break_oovwords(series, break_vocab_file, break_sp_file)\n",
    "        \n",
    "    if trim_reps:\n",
    "        series = trim_repitions(series, thresh=10)\n",
    "        \n",
    "    return series"
   ]
  },
  {
   "cell_type": "code",
   "execution_count": 8,
   "metadata": {},
   "outputs": [],
   "source": [
    "train = pd.read_csv(\"../input/train.csv\")\n",
    "test = pd.read_csv(\"../input/test.csv\")\n",
    "train.head()\n",
    "\n",
    "list_classes = [\"toxic\", \"severe_toxic\", \"obscene\", \"threat\", \"insult\", \"identity_hate\"]"
   ]
  },
  {
   "cell_type": "code",
   "execution_count": 9,
   "metadata": {},
   "outputs": [
    {
     "name": "stderr",
     "output_type": "stream",
     "text": [
      "/home/mohsin/anaconda3/lib/python3.6/site-packages/ipykernel_launcher.py:7: FutureWarning: currently extract(expand=None) means expand=False (return Index/Series/DataFrame) but in a future version of pandas this will be changed to expand=True (return DataFrame)\n",
      "  import sys\n"
     ]
    },
    {
     "name": "stdout",
     "output_type": "stream",
     "text": [
      "Total unique ip addresses in data are 0    5566\n",
      "1     283\n",
      "dtype: int64\n",
      "Total occurences of quoted words 57052\n",
      "Total comments with high repitions are 387\n",
      "Some examples of high reps are ['line of succession in march emperor of all russia nicholas ii of russia pad px alexei nikolaevich tsarevich of russia alexei nikolaevich pad px grand duke michael alexandrovich of russia grand duke michael alexandrovich of russia pad px cyril vladimirovich grand duke of russia cyril vladimirovich pad px grand duke michael alexandrovich of russia grand duke michael alexandrovich of russia pad px cyril vladimirovich grand duke of russia cyril vladimirovich pad px grand duke michael alexandrovich of russia grand duke michael alexandrovich of russia pad px cyril vladimirovich grand duke of russia cyril vladimirovich pad px grand duke michael alexandrovich of russia grand duke michael alexandrovich of russia pad px cyril vladimirovich grand duke of russia cyril vladimirovich pad px grand duke michael alexandrovich of russia grand duke michael alexandrovich of russia pad px cyril vladimirovich grand duke of russia cyril vladimirovich pad px grand duke michael alexandrovich of russia grand duke michael alexandrovich of russia pad px cyril vladimirovich grand duke of russia cyril vladimirovich pad px grand duke michael alexandrovich of russia grand duke michael alexandrovich of russia pad px cyril vladimirovich grand duke of russia cyril vladimirovich pad px grand duke michael alexandrovich of russia grand duke michael alexandrovich of russia pad px cyril vladimirovich grand duke of russia cyril vladimirovich pad px grand duke michael alexandrovich of russia grand duke michael alexandrovich of russia pad px cyril vladimirovich grand duke of russia cyril vladimirovich pad px grand duke michael alexandrovich of russia grand duke michael alexandrovich of russia pad px cyril vladimirovich grand duke of russia cyril vladimirovich pad px grand duke michael alexandrovich of russia grand duke michael alexandrovich of russia pad px cyril vladimirovich grand duke of russia cyril vladimirovich pad px grand duke michael alexandrovich of russia grand duke michael alexandrovich of russia pad px cyril vladimirovich grand duke of russia cyril vladimirovich pad px grand duke michael alexandrovich of russia grand duke michael alexandrovich of russia pad px cyril vladimirovich grand duke of russia cyril vladimirovich pad px grand duke michael alexandrovich of russia grand duke michael alexandrovich of russia pad px cyril vladimirovich grand duke of russia cyril vladimirovich pad px grand duke michael alexandrovich of russia grand duke michael alexandrovich of russia pad px cyril vladimirovich grand duke of russia cyril vladimirovich pad px grand duke michael alexandrovich of russia grand duke michael alexandrovich of russia pad px cyril vladimirovich grand duke of russia cyril vladimirovich pad px grand duke michael alexandrovich of russia grand duke michael alexandrovich of russia pad px cyril vladimirovich grand duke of russia cyril vladimirovich pad px grand duke michael alexandrovich of russia grand duke michael alexandrovich of russia pad px cyril vladimirovich grand duke of russia cyril vladimirovich pad px grand duke michael alexandrovich of russia grand duke michael alexandrovich of russia pad px cyril vladimirovich grand duke of russia cyril vladimirovich pad px grand duke michael alexandrovich of russia grand duke michael alexandrovich of russia pad px cyril vladimirovich grand duke of russia cyril vladimirovich pad px grand duke michael alexandrovich of russia grand duke michael alexandrovich of russia pad px cyril vladimirovich grand duke of russia cyril vladimirovich newl'\n",
      " 'hi moron hi moron hi moron hi moron hi moron hi moron hi moron hi moron hi moron hi moron hi moron hi moron hi moron hi moron hi moron hi moron hi moron hi moron hi moron hi moron hi moron hi moron hi moron hi moron hi moron hi moron hi moron hi moron hi moron hi moron hi moron hi moron hi moron hi moron hi moron hi moron hi moron hi moron hi moron hi moron hi moron hi moron hi moron hi moron hi moron hi moron hi moron hi moron hi moron hi moron hi moron hi moron hi moron hi moron hi moron hi moron hi moron hi moron hi moron hi moron hi moron hi moron hi moron hi moron hi moron hi moron hi moron hi moron hi moron hi moron hi moron hi moron hi moron hi moron hi moron hi moron hi moron hi moron hi moron hi moron hi moron hi moron hi moron hi moron hi moron hi moron hi moron hi moron hi moron hi moron hi moron hi moron hi moron hi moron hi moron hi moron hi moron hi moron hi moron hi moron hi moron hi moron hi moron hi moron hi moron hi moron hi moron hi moron hi moron hi moron hi moron hi moron hi moron hi moron hi moron hi moron hi moron hi moron hi moron hi moron hi moron hi moron hi moron hi moron hi moron hi moron hi moron hi moron hi moron hi moron hi moron hi moron hi moron hi moron hi moron hi moron hi moron hi moron hi moron hi moron hi moron hi moron hi moron hi moron hi moron hi moron hi moron hi moron hi moron hi moron hi moron hi moron hi moron hi moron hi moron hi moron hi moron hi moron hi moron hi moron hi moron hi moron hi moron hi moron hi moron hi moron hi moron hi moron hi moron hi moron hi moron hi moron hi moron hi moron hi moron hi moron hi moron hi moron hi moron hi moron hi moron hi moron hi moron hi moron hi moron hi moron hi moron hi moron hi moron hi moron hi moron hi moron hi moron hi moron hi moron hi moron hi moron hi moron hi moron hi moron hi moron hi moron hi moron hi moron hi moron hi moron hi moron hi moron hi moron hi moron hi moron hi moron hi moron hi moron hi moron hi moron hi moron hi moron hi moron hi moron hi moron hi moron hi moron hi moron hi moron hi moron hi moron hi moron hi moron hi moron hi moron hi moron hi moron hi moron hi moron hi moron hi moron hi moron hi moron hi moron hi moron hi moron hi moron hi moron hi moron hi moron hi moron hi moron hi moron hi moron hi moron hi moron hi moron hi moron hi moron hi moron hi moron hi moron hi moron hi moron hi moron hi moron hi moron hi moron hi moron hi moron hi moron hi moron hi moron hi moron hi moron hi moron hi moron hi moron hi moron hi moron hi moron hi moron hi moron hi moron hi moron hi moron hi moron hi moron hi moron hi moron hi moron hi moron hi moron hi moron hi moron hi moron hi moron hi moron hi moron hi moron hi moron hi moron hi moron hi moron hi moron hi moron hi moron hi moron hi moron hi moron hi moron hi moron hi moron hi moron hi moron hi moron hi moron hi moron hi moron hi moron hi moron hi moron hi moron hi moron hi moron hi moron hi moron hi moron hi moron hi moron hi moron hi moron hi moron hi moron hi moron hi moron hi moron hi moron hi moron hi moron hi moron hi moron hi moron hi moron hi moron hi moron hi moron hi moron hi moron hi moron hi moron hi moron hi moron hi moron hi moron hi moron hi moron hi moron hi moron hi moron hi moron hi moron hi moron hi moron hi moron hi moron hi moron hi moron hi moron hi moron hi moron hi moron hi moron hi moron hi moron hi moron hi moron hi moron hi moron hi moron hi moron hi moron hi moron hi moron hi moron hi moron hi moron hi moron hi moron hi moron hi moron hi moron hi moron hi moron hi moron hi moron hi moron hi moron hi moron hi moron hi moron hi moron hi moron hi moron hi moron hi moron hi moron hi moron hi moron hi moron hi moron hi moron hi moron hi moron hi moron hi moron hi moron hi moron hi moron hi moron hi moron hi moron hi moron hi moron hi moron hi moron hi moron hi moron hi moron hi moron hi moron hi moron hi moron hi moron hi moron hi moron hi moron hi moron hi moron hi moron hi moron hi moron hi moron hi moron hi moron hi moron hi moron hi moron hi moron hi moron hi moron hi moron hi moron hi moron hi moron hi moron hi moron hi moron hi moron hi moron hi moron hi moron hi moron hi moron hi moron hi moron hi moron hi moron hi moron hi moron hi moron hi moron hi moron hi moron hi moron hi moron hi moron hi moron hi moron hi moron hi moron hi moron hi moron hi moron hi moron hi moron hi moron hi moron hi moron hi moron hi moron hi moron hi moron hi moron hi moron hi moron hi moron hi moron hi moron hi moron hi moron hi moron hi moron hi moron hi moron hi moron hi moron hi moron hi moron hi moron hi moron hi moron hi moron hi moron hi moron hi moron hi moron hi moron hi moron hi moron hi moron hi moron hi moron hi moron hi moron hi moron hi moron hi moron hi moron hi moron hi moron hi moron hi moron hi moron hi moron hi moron hi moron hi moron hi moron hi moron hi moron hi moron hi moron hi moron'\n",
      " 'smile smile smile smile smile smile smile smile smile smile smile smile smile smile smile smile smile smile smile smile smile smile smile smile smile'\n",
      " 'fuck your dog fuck your dog fuck your dog fuck your dog fuck your dog fuck your dog fuck your dog fuck your dog fuck your dog fuck your dog fuck your dog fuck your dog fuck your dog fuck your dog fuck your dog fuck your dog fuck your dog fuck your dog fuck your dog fuck your dog fuck your dog fuck your dog fuck your dog fuck your dog fuck your dog fuck your dog fuck your dog fuck your dog fuck your dog fuck your dog fuck your dog fuck your dog fuck your dog fuck your dog fuck your dog fuck your dog fuck your dog fuck your dog fuck your dog fuck your dog fuck your dog fuck your dog fuck your dog fuck your dog fuck your dog fuck your dog fuck your dog fuck your dog fuck your dog fuck your dog fuck your dog fuck your dog fuck your dog fuck your dog fuck your dog fuck your dog fuck your dog fuck your dog fuck your dog fuck your dog fuck your dog fuck your dog fuck your dog fuck your dog fuck your dog fuck your dog fuck your dog fuck your dog fuck your dog fuck your dog fuck your dog fuck your dog fuck your dog fuck your dog fuck your dog fuck your dog fuck your dog fuck your dog fuck your dog fuck your dog fuck your dog fuck your dog fuck your dog fuck your dog fuck your dog fuck your dog fuck your dog fuck your dog fuck your dog fuck your dog fuck your dog fuck your dog fuck your dog fuck your dog fuck your dog fuck your dog fuck your dog fuck your dog fuck your dog fuck your dog fuck your dog fuck your dog fuck your dog fuck your dog fuck your dog fuck your dog fuck your dog fuck your dog fuck your dog fuck your dog fuck your dog fuck your dog fuck your dog fuck your dog fuck your dog fuck your dog fuck your dog fuck your dog fuck your dog fuck your dog fuck your dog fuck your dog fuck your dog fuck your dog fuck your dog fuck your dog fuck your dog fuck your dog fuck your dog fuck your dog fuck your dog fuck your dog fuck your dog fuck your dog fuck your dog fuck your dog fuck your dog fuck your dog fuck your dog fuck your dog fuck your dog fuck your dog fuck your dog fuck your dog fuck your dog fuck your dog fuck your dog fuck your dog fuck your dog fuck your dog fuck your dog fuck your dog fuck your dog fuck your dog fuck your dog fuck your dog fuck your dog fuck your dog fuck your dog fuck your dog fuck your dog fuck your dog fuck your dog fuck your dog fuck your dog fuck your dog fuck your dog fuck your dog fuck your dog fuck your dog fuck your dog fuck your dog fuck your dog fuck your dog fuck your dog fuck your dog fuck your dog fuck your dog fuck your dog fuck your dog fuck your dog fuck your dog fuck your dog fuck your dog fuck your dog fuck your dog fuck your dog fuck your dog fuck your dog fuck your dog fuck your dog fuck your dog fuck your dog fuck your dog fuck your dog fuck your dog fuck your dog fuck your dog fuck your dog fuck your dog fuck your dog fuck your dog fuck your dog fuck your dog fuck your dog fuck your dog fuck your dog fuck your dog fuck your dog fuck your dog fuck your dog fuck your dog fuck your dog fuck your dog fuck your dog fuck your dog fuck your dog fuck your dog fuck your dog fuck your dog fuck your dog fuck your dog fuck your dog fuck your dog fuck your dog fuck your dog fuck your dog fuck your dog fuck your dog fuck your dog fuck your dog fuck your dog fuck your dog fuck your dog fuck your dog fuck your dog fuck your dog fuck your dog fuck your dog fuck your dog fuck your dog fuck your dog fuck your dog fuck your dog fuck your dog fuck your dog fuck your dog fuck your dog fuck your dog fuck your dog fuck your dog fuck your dog fuck your dog fuck your dog fuck your dog fuck your dog fuck your dog fuck your dog fuck your dog fuck your dog fuck your dog fuck your dog fuck your dog fuck your dog fuck your dog fuck your dog fuck your dog fuck your dog fuck your dog fuck your dog fuck your dog fuck your dog fuck your dog fuck your dog fuck your dog fuck your dog fuck your dog fuck your dog fuck your dog fuck your dog fuck your dog fuck your dog fuck your dog fuck your dog fuck your dog fuck your dog fuck your dog fuck your dog fuck your dog fuck your dog fuck your dog fuck your dog fuck your dog fuck your dog fuck your dog fuck your dog fuck your dog fuck your dog fuck your dog fuck your dog fuck your dog fuck your dog fuck your dog fuck your dog fuck your dog fuck your dog fuck your dog fuck your dog fuck your dog fuck your dog fuck your dog fuck your dog fuck your dog fuck your dog fuck your dog fuck your dog fuck your dog fuck your dog fuck your dog fuck your dog fuck your dog fuck your dog fuck your dog fuck your dog fuck your dog fuck your dog fuck your dog fuck your dog fuck your dog fuck your dog fuck your dog fuck your dog fuck your dog fuck your dog fuck your dog fuck your dog fuck your dog fuck your dog fuck your dog fuck your dog fuck your dog fuck your dog fuck your dog fuck your dog fuck your dog fuck your dog fuck your dog fuck your dog fuck your dog fuck your dog fuck your dog fuck your dog fuck your dog fuck your dog fuck your d'\n",
      " 'they should die and please note too that bush sucks bush sucks bush sucks bush sucks bush sucks bush sucks bush sucks bush sucks bush sucks bush sucks bush sucks bush sucks bush sucks bush sucks bush sucks bush sucks bush sucks bush sucks bush sucks bush sucks bush sucks bush sucks bush sucks bush sucks bush sucks bush sucks bush sucks bush sucks bush sucks bush sucks bush sucks bush sucks bush sucks bush sucks bush sucks bush sucks bush sucks bush sucks bush sucks bush sucks bush sucks bush sucks bush sucks bush sucks bush sucks bush sucks bush sucks bush sucks bush sucks bush sucks bush sucks bush sucks bush sucks bush sucks bush sucks bush sucks bush sucks bush sucks bush sucks bush sucks bush sucks bush sucks bush sucks bush sucks bush sucks bush sucks bush sucks bush sucks bush sucks bush sucks bush sucks bush sucks bush sucks bush sucks bush sucks bush sucks bush sucks bush sucks bush sucks bush sucks bush sucks bush sucks bush sucks bush sucks bush sucks bush sucks bush sucks bush sucks bush sucks bush sucks bush sucks bush sucks bush sucks bush sucks bush sucks bush sucks bush sucks bush sucks bush sucks bush sucks bush sucks bush sucks bush sucks bush sucks bush sucks bush sucks bush sucks bush sucks bush sucks bush sucks bush sucks bush sucks bush sucks bush sucks bush sucks bush sucks bush sucks bush sucks bush sucks bush sucks bush sucks bush sucks bush sucks bush sucks bush sucks bush sucks bush sucks bush sucks bush sucks bush sucks bush sucks bush sucks bush sucks bush sucks bush sucks bush sucks bush sucks bush sucks bush sucks bush sucks bush sucks bush sucks bush sucks bush sucks bush sucks bush sucks bush sucks bush sucks bush sucks bush sucks bush sucks bush sucks bush sucks bush sucks bush sucks bush sucks bush sucks bush sucks bush sucks bush sucks bush sucks bush sucks bush sucks bush sucks bush sucks bush sucks bush sucks bush sucks bush sucks bush sucks bush sucks bush sucks bush sucks bush sucks bush sucks bush sucks bush sucks bush sucks bush sucks bush sucks bush sucks bush sucks bush sucks bush sucks bush sucks bush sucks bush sucks bush sucks bush sucks bush sucks bush sucks bush sucks bush sucks bush sucks bush sucks bush sucks bush sucks bush sucks bush sucks bush sucks bush sucks bush sucks bush sucks bush sucks bush sucks bush sucks bush sucks bush sucks bush sucks bush sucks bush sucks bush sucks bush sucks bush sucks bush sucks bush sucks bush sucks bush sucks bush sucks bush sucks bush sucks bush sucks bush sucks bush sucks bush sucks bush sucks bush sucks bush sucks bush sucks bush sucks']\n",
      "Some corrected sample are ['i fuck niggas i fuck niggas i fuck niggas i fuck niggas i fuck niggas i fuck niggas i fuck niggas i fuck niggas i fuck'\n",
      " 'idiot idiot idiot idiot idiot idiot idiot idiot idiot idiot idiot idiot idiot idiot idiot idiot idiot idiot idiot idiot idiot idiot idiot idiot idiot idiot'\n",
      " 'death to wikipedia down with free speach hj yun nn nn nn nn nn nn nn nn nn nn nn nn nn nn nn nn nn'\n",
      " 'lmao what weak threats i havent been banned yet bitch go vandalism lmao what weak threats i havent been banned yet bitch go vandalism lmao what'\n",
      " 'heil hitler heil hitler heil hitler heil hitler heil hitler heil hitler heil hitler heil hitler heil hitler heil hitler heil hitler heil hitler heil hitler']\n"
     ]
    },
    {
     "name": "stderr",
     "output_type": "stream",
     "text": [
      "/home/mohsin/anaconda3/lib/python3.6/site-packages/ipykernel_launcher.py:7: FutureWarning: currently extract(expand=None) means expand=False (return Index/Series/DataFrame) but in a future version of pandas this will be changed to expand=True (return DataFrame)\n",
      "  import sys\n"
     ]
    },
    {
     "name": "stdout",
     "output_type": "stream",
     "text": [
      "Total unique ip addresses in data are 0    867\n",
      "1    267\n",
      "dtype: int64\n",
      "Total occurences of quoted words 54931\n",
      "Total comments with high repitions are 714\n",
      "Some examples of high reps are ['fuk you the traitor vandal must die fuk you the traitor vandal must die fuk you the traitor vandal must die fuk you the traitor vandal must die fuk you the traitor vandal must die fuk you the traitor vandal must die fuk you the traitor vandal must die fuk you the traitor vandal must die fuk you the traitor vandal must die fuk you the traitor vandal must die fuk you the traitor vandal must die fuk you the traitor vandal must die fuk you the traitor vandal must die fuk you the traitor vandal must die fuk you the traitor vandal must die fuk you the traitor vandal must die fuk you the traitor vandal must die fuk you the traitor vandal must die fuk you the traitor vandal must die fuk you the traitor vandal must die fuk you the traitor vandal must die fuk you the traitor vandal must die fuk you the traitor vandal must die fuk you the traitor vandal must die fuk you the traitor vandal must die fuk you the traitor vandal must die fuk you the traitor vandal must die fuk you the traitor vandal must die fuk you the traitor vandal must die fuk you the traitor vandal must die fuk you the traitor vandal must die fuk you the traitor vandal must die fuk you the traitor vandal must die fuk you the traitor vandal must die fuk you the traitor vandal must die fuk you the traitor vandal must die fuk you the traitor vandal must die fuk you the traitor vandal must die fuk you the traitor vandal must die fuk you the traitor vandal must die fuk you the traitor vandal must die fuk you the traitor vandal must die fuk you the traitor vandal must die fuk you the traitor vandal must die fuk you the traitor vandal must die fuk you the traitor vandal must die fuk you the traitor vandal must die fuk you the traitor vandal must die fuk you the traitor vandal must die fuk you the traitor vandal must die fuk you the traitor vandal must die fuk you the traitor vandal must die fuk you the traitor vandal must die fuk you the traitor vandal must die fuk you the traitor vandal must die fuk you the traitor vandal must die fuk you the traitor vandal must die fuk you the traitor vandal must die fuk you the traitor vandal must die fuk you the traitor vandal must die fuk you the traitor vandal must die fuk you the traitor vandal must die fuk you the traitor vandal must die fuk you the traitor vandal must die fuk you the traitor vandal must die fuk you the traitor vandal must die fuk you the traitor vandal must die fuk you the traitor vandal must die fuk you the traitor vandal must die fuk you the traitor vandal must die fuk you the traitor vandal must die fuk you the traitor vandal must die fuk you the traitor vandal must die fuk you the traitor vandal must die fuk you the traitor vandal must die fuk you the traitor vandal must die fuk you the traitor vandal must die fuk you the traitor vandal must die fuk you the traitor vandal must die fuk you the traitor vandal must die fuk you the traitor vandal must die fuk you the traitor vandal must die fuk you the traitor vandal must die fuk you the traitor vandal must die fuk you the traitor vandal must die fuk you the traitor vandal must die fuk you the traitor vandal must die fuk you the traitor vandal must die fuk you the traitor vandal must die fuk you the traitor vandal must die fuk you the traitor vandal must die fuk you the traitor vandal must die fuk you the traitor vandal must die fuk you the traitor vandal must die fuk you the traitor vandal must die fuk you the traitor vandal must die fuk you the traitor vandal must die fuk you the traitor vandal must die fuk you the traitor vandal must die fuk you the traitor vandal must die fuk you the traitor vandal must die fuk you the traitor vandal must die fuk you the traitor vandal must die fuk you the traitor vandal must die fuk you the traitor vandal must die fuk you the traitor vandal must die fuk you the traitor vandal must die fuk you the traitor vandal must die fuk you the traitor vandal must die fuk you the traitor vandal must die fuk you the traitor vandal must die fuk you the traitor vandal must die fuk you the traitor vandal must die fuk you the traitor vandal must die fuk you the traitor vandal must die fuk you the traitor vandal must die fuk you the traitor vandal must die fuk you the traitor vandal must die fuk you the traitor vandal must die fuk you the traitor vandal must die fuk you the traitor vandal must die fuk you the traitor vandal must die fuk you the traitor vandal must die fuk you the traitor vandal must die fuk you the traitor vandal must die fuk you the traitor vandal must die fuk you the traitor vandal must die fuk you the traitor vandal must die fuk you the traitor vandal must die fuk you the traitor vandal must die fuk you the traitor vandal must die fuk you the traitor vandal must die fuk you the traitor vandal must die fuk you the traitor vandal must die fuk you the traitor vandal'\n",
      " 'bitch vg df ut tey fs dd f ss ss ss ss ss ss ss ss sd tr d tt tt tt tt tt tt tt tt tt tt tt tt tt tt tt tt tt tt tt tt tt tt tt tt tt tt tt tt tt tt tt tt tt tt tt tt tt tt tt tt tt tt tt tt tt tt tt tt tt tt tt tt tt tt tt tt tt tt tt tt tt tt tt tt tt tt tt tt tt tt tt tt tt tt tt tt tt tt tt tt tt tt tt tt tt tt tt tt tt tt tt tt tt tt tt tt tt tt tt tt tt tt tt tt tt tt tt tt tt tt tt tt tt tt tt tt tt tt tt tt tt tt tt tt tt tt tt tt tt tt tt tt tt tt tt tt tt tt tt tt tt tt tt tt tt tt tt tt tt tt tt tt tt tt tt tt tt tt tt tt tt tt tt tt tt tt tt tt tt tt tt tt tt tt tt tt tt tt tt tt tt tt tt tt tt tt tt tt tt tt tt tt tt tt tt tt tt tt tt tt tt tt tt tt tt tt tt tt tt tt tt tt tt tt tt tt tt tt tt tt tt tt tt tt tt tt tt tt tt tt tt tt tt tt tt tt tt tt tt tt tt tt tt tt tt tt tt tt tt tt tt tt tt tt tt tt tt tt tt tt tt tt tt tt tt tt tt tt tt tt tt tt tt tt tt tt tt tt tt tt tt tt tt tt tt tt tt tt tt tt tt tt tt tt tt tt tt tt tt tt tt tt tt tt tt tt tt tt tt tt tt tt tt tt tt tt tt tt tt tt tt tt tt tt tt tt tt tt tt tt tt tt tt tt tt tt tt tt tt tt tt tt tt tt tt tt tt tt tt tt tt tt tt tt tt tt tt tt tt tt tt tt tt tt tt tt tt tt tt tt tt tt tt tt tt tt tt tt tt tt tt tt tt tt tt tt tt tt tt tt tt tt tt tt tt tt tt tt tt tt tt tt tt tt tt tt tt tt tt tt tt tt tt tt tt tt tt tt tt tt tt tt tt tt gh gh gh gh gg gg gg gg gg gg gg gg gg gg gg gg gg gg gg gg gg gg gg gg gg gg gg gg gg gg gg gg gg gg gg gg gg gg gg gg gg gg gg gg gg gg gg gg gg gg gg gg gg gg gg gg gg gg gg gg gg gg gg gg gg gg gg gg gg gg gg gg gg gg gg gg gg gg gg gg gg gg gg gg gg gg gg gg gg gg gg gg gg gg gg gg gg gg gg gg gg gg gg gg gg gg gg gg gg gg gg gg gg gg gg gg gg gg gg gg gg gg gg gg gg gg gg gg gg gg gg gg gg gg gg gg gg gg gg gg gg gg gg gg gg gg gg gg gg gg gg gg gg gg gg gg gg gg gg gg gg gg gg gg gg gg gg gg gg gg gg gg gg gg gg gg gg gg gg gg gg gg gg gg gg gg gg gg gg gg gg gg gg gg gg gg gg gg gg gg gg gg gg gg gg gg gg gg gg gg gg gg gg gg gg gg gg gg gg gg gg gg gg gg gg gg gg gg gg gg gg gg gg gg gg gg gg gg gg gg gg gg gg gg gg gg gg gg gg gg gg gg gg gg gg gg gg gg gg gg gg gg gg gg gg gg gg gg gg gg gg gg gg gg gg gg gg gg gg gg gg gg gg gg gg gg gg gg gg gg gg gg gg gg gg gg gg gg gg gg gg gg gg gg gg gg gg gg gg gg gg gg gg gg gg gg gg gg gg gg gg gg gg gg gg gg gg gg gg gg gg gg gg gg gg gg gg gg gg gg gg gg gg gg gg gg gg gg gg gg gg gg gg gg gg gg gg gg gg gg gg gg gg gg gg gg gg gg gg gg gg gg gg gg gg gg gg gg gg gg gg gg gg gg gg gg gg gg gg gg gg gg gg gg gg g tt tt tt tt tt tt tt tt tt tt tt tt tt tt tt tt tt tt tt tt tt tt tt tt tt tt tt tt tt tt tt tt tt tt tt tt tt tt tt tt tt tt tt tt tt tt tt tt tt tt tt tt tt tt t kk kk kk kk kk kk kk kk kk kk kk kk kk kk kk kk kk kk kk kk kk kk kk kk kk kk kk kk kk kk kk kk kk kk kk kk kk kk kk kk kk kk kk kk kk kk kk kk kk kk kk kk kk kk kk kk kk kk kk kk kk kk kk kk kk kk kk kk kk kk kk kk kk kk kk kk kk kk kk kk kk kk kk kk kk kk kk kk kk kk kk kk kk kk kk kk kk kk kk kk kk kk kk kk kk kk kk kk kk kk kk kk kk kk kk kk kk kk kk kk kk kk kk kk kk kk kk kk kk kk kk kk kk kk kk kk kk kk kk kk kk kk kk kk kk kk kk kk kk kk kk kk kk kk kk kk kk kk kk kk kk kk kk kk kk kk kk kk kk kk kk kk kk kk kk kk kk kk kk kk kk kk kk kk kk kk kk kk kk kk kk kk kk kk kk kk kk kk kk kk kk kk kk kk kk kk kk kk kk kk kk kk kk kk kk kk kk kk kk kk kk kk kk kk kk kk kk kk kk kk kk kk kk kk kk kk kk kk kk kk kk kk kk kk kk kk kk kk kk kk kk kk kk kk kk kk kk kk kk kk kk kk kk kk kk kk kk kk kk kk kk kk kk kk kk kk kk kk kk kk kk kk kk kk kk kk kk kk kk kk kk kk kk kk kk kk kk kk kk kk kk kk kk kk kk kk kk kk kk kk kk kk kk kk kk kk kk kk kk kk kk kk kk kk kk kk kk kk kk kk kk kk kk kk kk kk kk kk kk kk kk kk kk kk kk kk kk kk kk kk kk kk kk kk kk kk kk kk kk kk kk kk kk kk kk kk kk kk kk kk kk kk kk kk kk kk kk kk kk kk kk kk kk kk kk kk kk kk kk kk kk kk kk kk kk kk kk kk kk kk kk kk kk kk kk kk kk kk kk kk kk kk kk kk kk kk kk kk kk kk kk kk kk kk kk kk kk kk kk kk kk kk kk kk kk kk kk kk kk kk kk kk kk kk kk kk kk kk dd dd dd dd dd dd dd dd dd dd dd dd dd dd dd dd dd dd dd dd dd dd dd dd dd dd dd dd dd dd dd dd dd dd dd dd dd dd dd dd dd dd dd dd dd dd dd dd dd dd dd dd dd dd dd dd dd dd dd dd dd dd dd dd dd dd dd dd dd dd dd dd dd dd dd dd dd dd dd dd dd dd dd dd dd dd dd dd dd dd dd dd dd dd dd dd dd dd dd dd dd dd dd dd dd dd dd dd dd dd dd dd dd dd dd dd dd dd dd dd dd dd dd dd dd dd dd dd dd dd dd dd dd dd dd dd dd dd dd dd dd dd dd dd dd dd dd dd dd dd dd dd dd dd dd dd dd dd dd dd dd dd dd dd dd dd dd dd dd dd dd dd dd dd dd dd dd dd dd dd dd dd dd dd dd dd dd dd dd dd dd dd dd dd dd dd dd dd dd dd dd dd dd dd dd dd dd dd dd dd dd dd dd dd dd dd dd dd dd dd dd dd dd dd dd dd dd dd dd dd dd dd dd dd dd dd dd dd dd dd dd dd dd dd dd dd dd dd dd dd dd dd dd dd dd dd dd dd dd dd dd dd dd dd dd dd dd dd dd dd dd dd dd dd dd dd dd dd dd dd dd dd dd dd dd dd dd dd dd dd dd dd dd dd dd dd dd dd dd dd dd dd dd dd dd dd dd dd dd dd dd dd dd dd dd dd dd dd dd dd dd dd dd dd dd dd dd dd dd dd dd dd dd dd dd dd dd dd dd dd dd dd dd dd dd dd dd dd dd dd dd dd dd dd dd dd dd dd dd dd dd dd dd dd dd dd dd dd dd dd dd dd dd dd dd dd dd dd dd dd dd dd dd dd dd d xxxx xxxx xxxx xxxx xxxx xxxx xxxx xxxx xxxx xxxx xxxx xxxx xxxx xxxx xxxx xxxx xxxx xxxx xxxx xxxx xxxx xxxx xxxx xxxx xxxx xxxx xxxx xxxx xxxx xxxx xxxx xxxx xxxx xxxx xxxx xxxx xxxx xxxx xxxx xxxx xxxx xxxx xxxx xxxx xxxx xxxx xxxx xxxx xxxx xxxx xxxx xxxx xxxx xxxx xxxx xxxx xxxx xxxx xxxx xxxx xxxx xxxx xxxx xxxx xxxx xxxx xxxx xxxx xxxx xxxx xxxx xxxx xxxx xxxx xxxx xxxx xxxx xxxx xxxx xxxx xxxx xxxx xxxx xxxx xxxx xxxx xxxx xxxx xxxx xxxx xxxx xxxx xxxx xxxx xxxx xxxx xxxx xxxx xxxx xxxx xxxx xxxx xxxx xxxx xxxx xxxx xxxx xxxx xxxx xxxx xxxx xxxx xxxx xxxx xxxx xxxx xxxx xxxx xxxx xxxx xxxx xxxx xxxx xxxx xxxx xxxx xxxx xxxx xxxx xxxx xxxx xxxx xxxx xxxx xxxx xxxx xxxx xxxx xxxx xxxx xxxx xxxx xxxx xxxx xxxx xxxx xxxx xxxx xxxx xxxx xxxx xxxx xxxx xxxx xxxx xxxx xxxx xxxx xxxx xxxx xxxx xxxx xxxx xxxx xxxx xxxx xxxx xxxx xxxx xxxx xxxx xxxx xxxx xxxx xxxx xxxx xxxx xxxx xxxx xxxx xxxx xxxx xxxx xxxx xxxx xxxx xxxx xxxx xxxx xxxx xxxx xxxx xxxx xx xxx vv vv vv vv vv vv vv vv vv vv vv vv vv vv vv vv vv vv vv vv vv vv vv vv vv vv vv vv vv vv vv vv vv vv vv vv vv vv vv vv vv vv vv vv vv vv vv vv vv vv vv vv vv vv vv vv vv vv vv vv vv vv vv vv vv vv vv vv vv vv vv vv vv vv vv vv vv vv vv vv vv vv vv vv vv vv vv vv vv vv vv vv vv vv vv vv vv vv vv vv vv vv vv vv vv vv vv vv vv vv vv vv vv vv vv vv vv vv vv vv vv vv vv vv vv vv vv vv vv vv vv vv vv vv vv vv vv vv vv vv vv vv vv v'\n",
      " 'orly orly orly orly orly orly orly orly orly orly orly orly orly orly orly orly orly orly orly orly orly orly orly orly orly orly orly orly orly orly orly orly orly orly orly orly orly orly orly orly orly orly orly orly orly orly orly orly orly orly orly orly orly orly orly orly orly orly orly orly orly orly orly orly orly orly orly orly orly orly orly orly orly orly orly orly orly orly orly orly orly orly orly orly orly orly orly orly orly orly orly orly orly orly orly orly orly orly orly orly orly orly orly orly orly orly orly orly orly orly orly orly orly orly orly orly orly orly orly orly orly orly orly orly orly orly orly orly orly orly orly orly orly orly orly orly orly orly orly orly orly orly orly orly orly orly orly orly orly orly orly orly orly orly orly orly orly orly orly orly orly orly orly orly orly orly orly orly orly orly orly orly orly orly orly orly orly orly orly orly orly orly orly orly orly orly orly orly orly orly orly orly orly orly orly orly orly orly orly orly orly orly orly orly orly orly orly orly orly orly orly orly orly orly orly orly orly orly orly orly orly orly orly orly orly orly orly orly orly orly orly orly orly orly orly orly orly orly orly orly orly orly orly orly orly orly orly orly orly orly orly orly orly orly orly orly orly orly orly orly orly orly orly orly orly orly orly orly orly orly orly orly orly orly orly orly orly orly orly orly orly orly orly orly orly orly orly orly orly orly orly orly orly orly orly orly orly orly orly orly orly orly orly orly orly orly orly orly orly orly orly orly orly orly orly orly orly orly orly orly orly orly orly orly orly orly orly orly orly orly orly orly orly orly orly orly orly orly orly orly orly orly orly orly orly orly orly orly orly orly orly orly orly orly orly orly orly orly orly orly orly orly orly orly orly orly orly orly orly orly orly orly orly orly orly orly orly orly orly orly orly orly orly orly orly orly orly orly orly orly orly orly orly orly orly orly orly orly orly orly orly orly orly orly orly orly orly orly orly orly orly orly orly orly orly orly orly orly orly orly orly orly orly orly orly orly orly orly orly orly orly orly orly orly orly orly orly orly orly orly orly orly orly orly orly orly orly orly orly orly orly orly orly orly orly orly orly orly orly orly orly orly orly orly orly orly orly orly orly orly orly orly orly orly orly orly orly orly orly orly orly orly orly orly orly orly orly orly orly orly orly orly orly orly orly orly orly orly orly orly orly orly orly orly orly orly orly orly orly orly orly orly orly orly orly orly orly orly orly orly orly orly orly orly orly orly orly orly orly orly orly orly orly orly orly orly orly orly orly orly orly orly orly orly orly orly orly orly orly orly orly orly orly orly orly orly orly orly orly orly orly orly orly orly orly orly orly orly orly orly orly orly orly orly orly orly orly orly orly orly orly orly orly orly orly orly orly orly orly orly orly orly orly orly orly orly orly orly orly orly orly orly orly orly orly orly orly orly orly orly orly orly orly orly orly orly orly orly orly orly orly orly orly orly orly orly orly orly orly orly orly orly orly orly orly orly orly orly orly orly orly orly orly orly orly orly orly orly orly orly orly orly orly orly orly orly orly orly orly orly orly orly orly orly orly orly orly orly orly orly orly orly orly orly orly orly orly orly orly orly orly orly orly orly orly orly orly orly orly orly orly orly orly orly orly orly orly orly orly orly orly orly orly orly orly orly orly orly orly orly orly orly orly orly orly orly orly orly orly orly orly orly orly orly orly orly orly orly orly orly orly orly orly orly orly orly orly orly orly orly orly orly orly orly orly orly orly orly orly orly orly orly orly orly orly orly orly orly orly orly orly orly orly orly orly orly orly orly orly orly orly orly orly orly orly orly orly orly orly orly orly orly orly orly orly orly orly orly orly orly orly orly orly orly orly orly orly orly orly orly orly orly orly orly orly orly orly orly orly orly orly orly orly orly orly orly orly orly orly orly orly orly orly orly orly orly orly orly orly orly orly orly orly orly orly orly orly orly orly orly orly orly orly orly orly orly orly orly orly orly orly orly orly orly orly orly orly orly orly orly orly orly orly orly orly orly orly orly orly orly orly orly orly orly orly orly orly orly orly orly orly orly orly orly orly orly orly orly orly orly orly orly orly orly orly orly orly orly orly orly orly orly orly orly orly orly orly orly orly orly orly orly orly orly orly orly orly orly orly orly orly orly orly orly orly orly orly orly orly orly orly orly orly orly orly orly orly orly orly orly orly orly orly orly orly orly orly orly orly orly orly orly orly orly orly orly orly orly orly orly orly orly orly orly orly orly orly orly orly orly orly orly orly orly orly orly orly orly orly orly orly orly orly orly orly orly orly orly orly orly orly orly orly orly orly orly orly orly orly orly'\n",
      " 'vianello is fucking stupid vianello is fucking stupid vianello is fucking stupid vianello is fucking stupid vianello is fucking stupid vianello is fucking stupid vianello is fucking stupid vianello is fucking stupid vianello is fucking stupid vianello is fucking stupid vianello is fucking stupid vianello is fucking stupid vianello is fucking stupid vianello is fucking stupid vianello is fucking stupid vianello is fucking stupid vianello is fucking stupid vianello is fucking stupid vianello is fucking stupid vianello is fucking stupid vianello is fucking stupid vianello is fucking stupid vianello is fucking stupid vianello is fucking stupid vianello is fucking stupid vianello is fucking stupid vianello is fucking stupid vianello is fucking stupid vianello is fucking stupid vianello is fucking stupid vianello is fucking stupid vianello is fucking stupid vianello is fucking stupid vianello is fucking stupid vianello is fucking stupid vianello is fucking stupid vianello is fucking stupid vianello is fucking stupid vianello is fucking stupid vianello is fucking stupid vianello is fucking stupid vianello is fucking stupid vianello is fucking stupid vianello is fucking stupid vianello is fucking stupid vianello is fucking stupid vianello is fucking stupid vianello is fucking stupid vianello is fucking stupid vianello is fucking stupid vianello is fucking stupid vianello is fucking stupid vianello is fucking stupid vianello is fucking stupid vianello is fucking stupid vianello is fucking stupid vianello is fucking stupid vianello is fucking stupid vianello is fucking stupid vianello is fucking stupid vianello is fucking stupid vianello is fucking stupid vianello is fucking stupid vianello is fucking stupid vianello is fucking stupid vianello is fucking stupid vianello is fucking stupid vianello is fucking stupid vianello is fucking stupid vianello is fucking stupid vianello is fucking stupid vianello is fucking stupid vianello is fucking stupid vianello is fucking stupid vianello is fucking stupid vianello is fucking stupid vianello is fucking stupid vianello is fucking stupid vianello is fucking stupid vianello is fucking stupid vianello is fucking stupid vianello is fucking stupid vianello is fucking stupid vianello is fucking stupid vianello is fucking stupid vianello is fucking stupid vianello is fucking stupid vianello is fucking stupid vianello is fucking stupid vianello is fucking stupid vianello is fucking stupid vianello is fucking stupid vianello is fucking stupid vianello is fucking stupid vianello is fucking stupid vianello is fucking stupid vianello is fucking stupid vianello is fucking stupid vianello is fucking stupid vianello is fucking stupid vianello is fucking stupid vianello is fucking stupid vianello is fucking stupid vianello is fucking stupid vianello is fucking stupid vianello is fucking stupid vianello is fucking stupid vianello is fucking stupid vianello is fucking stupid vianello is fucking stupid vianello is fucking stupid vianello is fucking stupid vianello is fucking stupid vianello is fucking stupid vianello is fucking stupid vianello is fucking stupid vianello is fucking stupid vianello is fucking stupid vianello is fucking stupid vianello is fucking stupid vianello is fucking stupid vianello is fucking stupid vianello is fucking stupid vianello is fucking stupid vianello is fucking stupid vianello is fucking stupid vianello is fucking stupid vianello is fucking stupid vianello is fucking stupid vianello is fucking stupid vianello is fucking stupid vianello is fucking stupid vianello is fucking stupid vianello is fucking stupid vianello is fucking stupid vianello is fucking stupid vianello is fucking stupid vianello is fucking stupid vianello is fucking stupid'\n",
      " 'p s go fuck a cat go fuck a cat go fuck a cat go fuck a cat go fuck a cat go fuck a cat go fuck a cat go fuck a cat go fuck a cat go fuck a cat go fuck a cat go fuck a cat go fuck a cat go fuck a cat go fuck a cat go fuck a cat go fuck a cat go fuck a cat go fuck a cat go fuck a cat go fuck a cat go fuck a cat go fuck a cat go fuck a cat go fuck a cat go fuck a cat go fuck a cat go fuck a cat go fuck a cat go fuck a cat go fuck a cat go fuck a cat go fuck a cat go fuck a cat go fuck a cat go fuck a cat go fuck a cat go fuck a cat go fuck a cat go fuck a cat go fuck a cat go fuck a cat go fuck a cat go fuck a cat go fuck a cat go fuck a cat go fuck a cat go fuck a cat go fuck a cat go fuck a cat go fuck a cat go fuck a cat go fuck a cat go fuck a cat go fuck a cat go fuck a cat go fuck a cat go fuck a cat go fuck a cat go fuck a cat go fuck a cat go fuck a cat go fuck a cat go fuck a cat go fuck a cat go fuck a cat go fuck a cat go fuck a cat go fuck a cat go fuck a cat go fuck a cat go fuck a cat go fuck a cat go fuck a cat go fuck a cat go fuck a cat go fuck a cat go fuck a cat go fuck a cat go fuck a cat go fuck a cat go fuck a cat go fuck a cat go fuck a cat go fuck a cat go fuck a cat go fuck a cat go fuck a cat go fuck a cat go fuck a cat go fuck a cat go fuck a cat go fuck a cat go fuck a cat go fuck a cat go fuck a cat go fuck a cat go fuck a cat go fuck a cat go fuck a cat go fuck a cat go fuck a cat go fuck a cat go fuck a cat go fuck a cat go fuck a cat go fuck a cat go fuck a cat go fuck a cat go fuck a cat go fuck a cat go fuck a cat go fuck a cat go fuck a cat go fuck a cat go fuck a cat go fuck a cat go fuck a cat go fuck a cat go fuck a cat go fuck a cat go fuck a cat go fuck a cat go fuck a cat go fuck a cat go fuck a cat go fuck a cat go fuck a cat go fuck a cat go fuck a cat go fuck a cat go fuck a cat go fuck a cat go fuck a cat go fuck a cat go fuck a cat go fuck a cat go fuck a cat go fuck a cat go fuck a cat go fuck a cat go fuck a cat go fuck a cat go fuck a cat go fuck a cat go fuck a cat go fuck a cat go fuck a cat go fuck a cat go fuck a cat go fuck a cat go fuck a cat go fuck a cat go fuck a cat go fuck a cat go fuck a cat go fuck a cat go fuck a cat go fuck a cat go fuck a cat go fuck a cat go fuck a cat go fuck a cat go fuck a cat go fuck a cat go fuck a cat go fuck a cat go fuck a cat go fuck a cat go fuck a cat go fuck a cat go fuck a cat go fuck a cat go fuck a cat go fuck a cat go fuck a cat go fuck a cat go fuck a cat go fuck a cat go fuck a cat go fuck a cat go fuck a cat go fuck a cat go fuck a cat go fuck a cat go fuck a cat go fuck a cat go fuck a cat go fuck a cat go fuck a cat go fuck a cat go fuck a cat go fuck a cat go fuck a cat go fuck a cat go fuck a cat go fuck a cat go fuck a cat go fuck a cat go fuck a cat go fuck a cat go fuck a cat go fuck a cat go fuck a cat go fuck a cat go fuck a cat go fuck a cat go fuck a cat go fuck a cat go fuck a cat go fuck a cat go fuck a cat go fuck a cat go fuck a cat go fuck a cat go fuck a cat go fuck a cat go fuck a cat go fuck a cat go fuck a cat go fuck a cat go fuck a cat go fuck a cat go fuck a cat go fuck a cat go fuck a cat go fuck a cat go fuck a cat go fuck a cat go fuck a cat go fuck a cat go fuck a cat go fuck a cat go fuck a cat go fuck a cat go fuck a cat go fuck a cat go fuck a cat go fuck a cat go fuck a cat go fuck a cat go fuck a cat go fuck a cat go fuck a cat go fuck a cat go fuck a cat go fuck a cat go fuck a cat go fuck a cat go fuck a cat go fuck a cat go fuck a cat go fuck a cat go fuck a cat go fuck a cat go fuck a cat go fuck a cat go fuck a cat go fuck a cat go fuck a cat go fuck a cat go fuck a cat go fuck a cat go fuck a cat go fuck a cat go fuck a cat go fuck a cat go fuck a cat go fuck a cat go fuck a cat go fuck a cat go fuck a cat go fuck a cat go fuck a cat go fuck a cat go fuck a cat go fuck a cat go fuck a cat go fuck a cat go fuck a cat go fuck a cat go fuck a cat go fuck a cat']\n",
      "Some corrected sample are ['penis is vag penis in vag pen is in'\n",
      " 'fag fag fag fag fag fag fag fag fag' 'hh hh hh hh hh hh hh hh hh'\n",
      " 'fffff uuuuuu cccccc kkkkkk you f uu c kk'\n",
      " 'nj gw you mother fucking cock sucking yellow bastard']\n"
     ]
    },
    {
     "data": {
      "text/plain": [
       "array(['although i have to say youre completely wrong xe bat iranian is not an quoted uncommon word do you agree with the solution how you got this info khoikhoi iranians honestly and honestly is not a common word talk',\n",
       "       'come to think of it why is it listed under wikipedias christianity section',\n",
       "       'new train schedule hello folks just want to know can we make some important train timings in this page if yes please ping me thanks',\n",
       "       'then use a reliable source http www mirror co uk sport football news transfer window summer transfer window sorry transfer window opens july but contracts and pre agreements can be signed at any time even if the transfer window opened on april in england it doesnt open until july in spain and so they cant release him until june',\n",
       "       'given that many historians critics and many jewish and christian scholars believe that the book of daniel is about the events in israel from the beginning of the babylonian captivity to the end of the maccabean revolt they would say that the old testament reference is to antiochus iv epiphanes the man who attacked the temple in jerusalem and defiled it by sacrificing a pig on the altar erecting a statue of zeus as himself in the temple raiding the temple treasury and minting coins saying quoted theos epiphanes god manifest etc',\n",
       "       'it wasnt jar lie it was actually jtv just stirring trouble no biggie',\n",
       "       'what violation i erased a page called my talk how can that be a violation if i dont want to receive messages why do i have to i waited until the block was off to erase the page is it a violation to have a clean page',\n",
       "       'utc it is indeed necessary to define free will and it is easy i think it is a big mistake to announce that this article covers the non theological aspects of free will as the root of the concept is at least partly theological immediately recall that the very point of free will is to jus it ify moral responsibility historically despite the fact that a perfect and omniscient god created man then warn the reader that a perrenial source of confusion has been about the apparent randomness or non determination in human choices and that this point will be adressed seperately because both quoted aspects of free will are apparently at odds then maybe after some historical notes introduce compat ibil its at least hume like free will the ability to choose in agreement to ones principles or main goals the point of this definition is to found moral responsibility ability to include the threat of punishment into ones decision process once this definition has been given the rest of the issues are much clearer and especially the fact the some limited macroscopic determinism is required to give sense to it october',\n",
       "       'interlude page review hello and thank you for taking the time to review interludes page i just have some questions about why the page was rejected you mention that i treat it as notable in its own right and that references are about interlude and not on the campaigns per se in terms of reference i included sources such as fast company techcrunch yahoo news and time so im not sure i understand the comment additionally the page follows the format of other entries ive seen for example https en wikipedia org wiki droga it would be extremely helpful if you could provide more detail on how i could improve the entry and have my submission approved thanks',\n",
       "       'cite web url http wow bat angas com towns and cities batangas city batangas city batangas list of barangays title batangas city batangas list of barangays date august accessdate november'],\n",
       "      dtype=object)"
      ]
     },
     "execution_count": 9,
     "metadata": {},
     "output_type": "execute_result"
    }
   ],
   "source": [
    "embed_file =\"../utility/glove.42B.300d.txt\"\n",
    "sp_file = \"../utility/en.wiki.bpe.op200000.model\"\n",
    "\n",
    "train.comment_text = preprocess_text(train.comment_text, break_vocab_file=embed_file, break_sp_file=sp_file)\n",
    "test.comment_text = preprocess_text(test.comment_text, break_vocab_file=embed_file, break_sp_file=sp_file)\n",
    "train.comment_text.sample(10).values"
   ]
  },
  {
   "cell_type": "code",
   "execution_count": 10,
   "metadata": {},
   "outputs": [],
   "source": [
    "#write out\n",
    "train.to_csv(\"../input/train_preprocessed_v1.csv\", index=False)\n",
    "test.to_csv(\"../input/test_preprocessed_v1.csv\", index=False)"
   ]
  },
  {
   "cell_type": "code",
   "execution_count": null,
   "metadata": {},
   "outputs": [],
   "source": [
    "#Write out files\n"
   ]
  }
 ],
 "metadata": {
  "kernelspec": {
   "display_name": "Python 3",
   "language": "python",
   "name": "python3"
  },
  "language_info": {
   "codemirror_mode": {
    "name": "ipython",
    "version": 3
   },
   "file_extension": ".py",
   "mimetype": "text/x-python",
   "name": "python",
   "nbconvert_exporter": "python",
   "pygments_lexer": "ipython3",
   "version": "3.6.4"
  }
 },
 "nbformat": 4,
 "nbformat_minor": 2
}
