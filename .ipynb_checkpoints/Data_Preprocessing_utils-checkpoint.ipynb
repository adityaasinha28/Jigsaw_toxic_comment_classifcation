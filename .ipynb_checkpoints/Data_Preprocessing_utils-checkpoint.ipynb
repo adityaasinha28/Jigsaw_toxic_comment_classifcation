{
 "cells": [
  {
   "cell_type": "code",
   "execution_count": 25,
   "metadata": {},
   "outputs": [],
   "source": [
    "import pandas as pd\n",
    "import numpy as np\n",
    "\n",
    "from textblob import TextBlob\n",
    "from nltk.tokenize import WordPunctTokenizer, word_tokenize, StanfordSegmenter, sent_tokenize, PunktSentenceTokenizer\n",
    "from nltk.corpus import stopwords\n",
    "\n",
    "import re, os, sys, string, itertools\n",
    "from collections import defaultdict, Counter\n",
    "import unicodedata\n",
    "from tqdm import tqdm, tqdm_notebook\n",
    "import sentencepiece as spm"
   ]
  },
  {
   "cell_type": "code",
   "execution_count": 2,
   "metadata": {},
   "outputs": [],
   "source": [
    "def translate_quoted_words(series):\n",
    "    \"\"\" \n",
    "    This functions replaces words which are written in quotes\n",
    "    with quoted word e.g. \"Damn\" with \"quoted \"Damn\"\"\n",
    "     \"\"\"\n",
    "    reg = re.compile(r'((?<=\")\"[\\w\\s]+\"(?=\"))')\n",
    "    print(\"Total occurences of quoted words {}\".format(series.str.count(reg).sum()))\n",
    "    series = series.str.replace(reg, 'quoted \\\\1')\n",
    "    return series"
   ]
  },
  {
   "cell_type": "code",
   "execution_count": 17,
   "metadata": {},
   "outputs": [],
   "source": [
    "def remove_ips(series):\n",
    "    \"\"\"\n",
    "    Remove all ip addresses\n",
    "    \"\"\"\n",
    "    series = series.copy()\n",
    "    reg = re.compile(r'(([0-9]{1,}\\.){2,}[0-9]{1,})')\n",
    "    print(\"Total unique ip addresses in data are {}\".format(series.str.extract(reg).nunique()))\n",
    "    series = series.str.replace(reg, ' ')\n",
    "    return series"
   ]
  },
  {
   "cell_type": "code",
   "execution_count": 18,
   "metadata": {},
   "outputs": [],
   "source": [
    "def remove_trailing_dates(series):\n",
    "    \"\"\"\n",
    "    Remove date times at the end\n",
    "    \"\"\"\n",
    "    series = series.copy()\n",
    "    return series.str.replace(\"([0-9]{1,2}:[0-9]{1,2},{0,1}\\s[0-9]{1,2}\\s[a-zA-Z]{3,}\\s[0-9]{2,4}\\s\\((utc|UTC)\\))\", \" \")"
   ]
  },
  {
   "cell_type": "code",
   "execution_count": 33,
   "metadata": {},
   "outputs": [],
   "source": [
    "def trim_repitions(series, thresh=5):\n",
    "    \"\"\"\n",
    "    Check if comment has repitions, if more than than repitions then trim at 10 words\n",
    "    \"\"\"\n",
    "    series = series.copy()\n",
    "    total_words = series.str.count(\"\\w+\")\n",
    "    unq_words = series.apply(lambda x: len(np.unique(x.split(' '))))\n",
    "    \n",
    "    rep_inds = total_words/unq_words > thresh\n",
    "    print(\"Total comments with high repitions are {}\".format(sum(rep_inds)))\n",
    "    print(\"Some examples of high reps are {}\".format(series.loc[rep_inds].sample(5).values))\n",
    "    \n",
    "    rep_inds_unq = iter(unq_words.loc[rep_inds])\n",
    "    series.loc[rep_inds] = series[rep_inds].str.split(' ').str.slice(0, next(rep_inds_unq)).str.join(' ')\n",
    "    \n",
    "    print(\"Some corrected sample are {}\".format(series.loc[rep_inds].sample(5).values))\n",
    "    return series"
   ]
  },
  {
   "cell_type": "code",
   "execution_count": 46,
   "metadata": {},
   "outputs": [],
   "source": [
    "def break_oovwords(series, vocab_filename, sp_file):\n",
    "    \"\"\"\n",
    "    Breaks the words which are out of vocab using sentence piece and returns new text\n",
    "    \"\"\"\n",
    "    series = series.copy()\n",
    "    dict_words = set([o.rstrip().rsplit(' ')[0] for o in open(vocab_filename)])\n",
    "    sp = spm.SentencePieceProcessor()\n",
    "    sp.Load(sp_file)\n",
    "    series = series.apply(lambda x: ' '.join(itertools.chain.from_iterable([sp.EncodeAsPieces(word) \n",
    "                                            if word not in dict_words else [word] \n",
    "                                            for word in x.split(' ') ])))\n",
    "    series = series.str.replace(\"▁\", \"\")\n",
    "    return series"
   ]
  },
  {
   "cell_type": "code",
   "execution_count": 47,
   "metadata": {},
   "outputs": [],
   "source": [
    "def preprocess_text(series, remove_ip=True, remove_date_stamps=True, tag_quoted=True, remove_puncts=True, lower=True,\n",
    "                    remove_digits=True, remove_nonchars=True,\n",
    "                   break_oov=True, break_vocab_file=\"\", break_sp_file=\"\", trim_reps=True):\n",
    "    series = series.copy()\n",
    "    series = series.str.replace(r\"\\\\n{1,}\", \" line \")\n",
    "    \n",
    "    if remove_ips:\n",
    "        series = remove_ips(series)\n",
    "        \n",
    "    if remove_date_stamps:\n",
    "        series = remove_trailing_dates(series)\n",
    "        \n",
    "    if tag_quoted:\n",
    "        series = translate_quoted_words(series)\n",
    "        \n",
    "    if remove_puncts:\n",
    "        series = series.str.replace(\"'\", \"\")\n",
    "        series = series.str.translate(str.maketrans({s:\" \" for s in string.punctuation}))\n",
    "        \n",
    "    if lower:\n",
    "        series = series.str.lower()\n",
    "        \n",
    "    if remove_digits:\n",
    "        series = series.str.replace(r\"\\d\", \"\")\n",
    "    \n",
    "    if remove_nonchars:\n",
    "        series = series.str.replace(r\"[^a-zA-Z0-9.,\\\"!]+\", \" \")\n",
    "        \n",
    "    if break_oov:\n",
    "        series = break_oovwords(series, break_vocab_file, break_sp_file)\n",
    "        \n",
    "    if trim_reps:\n",
    "        series = trim_repitions(series, thresh=10)\n",
    "        \n",
    "    return series"
   ]
  },
  {
   "cell_type": "code",
   "execution_count": 48,
   "metadata": {},
   "outputs": [],
   "source": [
    "train = pd.read_csv(\"../input/train.csv\")\n",
    "test = pd.read_csv(\"../input/test.csv\")\n",
    "train.head()\n",
    "\n",
    "list_classes = [\"toxic\", \"severe_toxic\", \"obscene\", \"threat\", \"insult\", \"identity_hate\"]"
   ]
  },
  {
   "cell_type": "code",
   "execution_count": 49,
   "metadata": {},
   "outputs": [
    {
     "name": "stderr",
     "output_type": "stream",
     "text": [
      "/home/mohsin/anaconda3/lib/python3.6/site-packages/ipykernel_launcher.py:7: FutureWarning: currently extract(expand=None) means expand=False (return Index/Series/DataFrame) but in a future version of pandas this will be changed to expand=True (return DataFrame)\n",
      "  import sys\n"
     ]
    },
    {
     "name": "stdout",
     "output_type": "stream",
     "text": [
      "Total unique ip addresses in data are 0    5565\n",
      "1     282\n",
      "dtype: int64\n",
      "Total occurences of quoted words 57052\n",
      "Total comments with high repitions are 369\n",
      "Some examples of high reps are ['i am gay i am gay i am gay i am gay i am gay i am gay i am gay i am gay i am gay i am gay i am gay i am gay i am gay i am gay i am gay i am gay i am gay i am gay i am gay i am gay i am gay i am gay i am gay i am gay i am gay i am gay i am gay i am gay i am gay i am gay i am gay i am gay i am gay i am gay i am gay i am gay i am gay i am gay i am gay i am gay i am gay i am gay i am gay i am gay i am gay i am gay i am gay i am gay i am gay i am gay i am gay i am gay i am gay i am gay i am gay i am gay i am gay i am gay i am gay i am gay i am gay i am gay i am gay i am gay i am gay i am gay i am gay i am gay i am gay i am gay i am gay i am gay i am gay i am gay i am gay i am gay i am gay i am gay i am gay i am gay i am gay i am gay i am gay i am gay i am gay i am gay i am gay i am gay i am gay i am gay i am gay i am gay i am gay i am gay i am gay i am gay i am gay i am gay i am gay i am gay i am gay i am gay i am gay i am gay i am gay i am gay i am gay i am gay i am gay i am gay i am gay i am gay i am gay i am gay i am gay i am gay i am gay i am gay i am gay i am gay i am gay i am gay i am gay i am gay i am gay i am gay i am gay i am gay i am gay i am gay i am gay i am gay i am gay i am gay i am gay i am gay i am gay i am gay i am gay i am gay i am gay i am gay i am gay i am gay i am gay i am gay i am gay i am gay i am gay i am gay i am gay i am gay i am gay i am gay i am gay i am gay i am gay i am gay i am gay i am gay i am gay i am gay i am gay i am gay i am gay i am gay i am gay'\n",
      " 'fuck your warning and fuck your mum and gg i didnt sign this so u cant ban me as u dont know who wrote this sloppy ass cunt \\n fuck your warning and fuck your mum and gg i didnt sign this so u cant ban me as u dont know who wrote this sloppy ass cunt \\n fuck your warning and fuck your mum and gg i didnt sign this so u cant ban me as u dont know who wrote this sloppy ass cunt \\n fuck your warning and fuck your mum and gg i didnt sign this so u cant ban me as u dont know who wrote this sloppy ass cunt \\n fuck your warning and fuck your mum and gg i didnt sign this so u cant ban me as u dont know who wrote this sloppy ass cunt \\n fuck your warning and fuck your mum and gg i didnt sign this so u cant ban me as u dont know who wrote this sloppy ass cunt \\n fuck your warning and fuck your mum and gg i didnt sign this so u cant ban me as u dont know who wrote this sloppy ass cunt \\n fuck your warning and fuck your mum and gg i didnt sign this so u cant ban me as u dont know who wrote this sloppy ass cunt \\n fuck your warning and fuck your mum and gg i didnt sign this so u cant ban me as u dont know who wrote this sloppy ass cunt \\n fuck your warning and fuck your mum and gg i didnt sign this so u cant ban me as u dont know who wrote this sloppy ass cunt \\n fuck your warning and fuck your mum and gg i didnt sign this so u cant ban me as u dont know who wrote this sloppy ass cunt \\n fuck your warning and fuck your mum and gg i didnt sign this so u cant ban me as u dont know who wrote this sloppy ass cunt \\n fuck your warning and fuck your mum and gg i didnt sign this so u cant ban me as u dont know who wrote this sloppy ass cunt \\n fuck your warning and fuck your mum and gg i didnt sign this so u cant ban me as u dont know who wrote this sloppy ass cunt \\n fuck your warning and fuck your mum and gg i didnt sign this so u cant ban me as u dont know who wrote this sloppy ass cunt \\n fuck your warning and fuck your mum and gg i didnt sign this so u cant ban me as u dont know who wrote this sloppy ass cunt \\n fuck your warning and fuck your mum and gg i didnt sign this so u cant ban me as u dont know who wrote this sloppy ass cunt \\n fuck your warning and fuck your mum and gg i didnt sign this so u cant ban me as u dont know who wrote this sloppy ass cunt \\n fuck your warning and fuck your mum and gg i didnt sign this so u cant ban me as u dont know who wrote this sloppy ass cunt \\n fuck your warning and fuck your mum and gg i didnt sign this so u cant ban me as u dont know who wrote this sloppy ass cunt \\n fuck your warning and fuck your mum and gg i didnt sign this so u cant ban me as u dont know who wrote this sloppy ass cunt'\n",
      " 'nice work removing edits faggot ass piece of shit nice work removing edits faggot ass piece of shit nice work removing edits faggot ass piece of shit nice work removing edits faggot ass piece of shit nice work removing edits faggot ass piece of shit nice work removing edits faggot ass piece of shit nice work removing edits faggot ass piece of shit nice work removing edits faggot ass piece of shit nice work removing edits faggot ass piece of shit nice work removing edits faggot ass piece of shit nice work removing edits faggot ass piece of shit nice work removing edits faggot ass piece of shit nice work removing edits faggot ass piece of shit nice work removing edits faggot ass piece of shit nice work removing edits faggot ass piece of shit nice work removing edits faggot ass piece of shit nice work removing edits faggot ass piece of shit nice work removing edits faggot ass piece of shit nice work removing edits faggot ass piece of shit nice work removing edits faggot ass piece of shit nice work removing edits faggot ass piece of shit nice work removing edits faggot ass piece of shit nice work removing edits faggot ass piece of shit nice work removing edits faggot ass piece of shit nice work removing edits faggot ass piece of shit nice work removing edits faggot ass piece of shit nice work removing edits faggot ass piece of shit nice work removing edits faggot ass piece of shit nice work removing edits faggot ass piece of shit nice work removing edits faggot ass piece of shit nice work removing edits faggot ass piece of shit nice work removing edits faggot ass piece of shit nice work removing edits faggot ass piece of shit nice work removing edits faggot ass piece of shit nice work removing edits faggot ass piece of shit nice work removing edits faggot ass piece of shit nice work removing edits faggot ass piece of shit nice work removing edits faggot ass piece of shit nice work removing edits faggot ass piece of shit nice work removing edits faggot ass piece of shit nice work removing edits faggot ass piece of shit nice work removing edits faggot ass piece of shit nice work removing edits faggot ass piece of shit nice work removing edits faggot ass piece of shit nice work removing edits faggot ass piece of shit nice work removing edits faggot ass piece of shit nice work removing edits faggot ass piece of shit nice work removing edits faggot ass piece of shit nice work removing edits faggot ass piece of shit nice work removing edits faggot ass piece of shit nice work removing edits faggot ass piece of shit nice work removing edits faggot ass piece of shit nice work removing edits faggot ass piece of shit nice work removing edits faggot ass piece of shit nice work removing edits faggot ass piece of shit nice work removing edits faggot ass piece of shit nice work removing edits faggot ass piece of shit nice work removing edits faggot ass piece of shit nice work removing edits faggot ass piece of shit nice work removing edits faggot ass piece of shit nice work removing edits faggot ass piece of shit nice work removing edits faggot ass piece of shit nice work removing edits faggot ass piece of shit nice work removing edits faggot ass piece of shit nice work removing edits faggot ass piece of shit nice work removing edits faggot ass piece of shit nice work removing edits faggot ass piece of shit nice work removing edits faggot ass piece of shit nice work removing edits faggot ass piece of shit nice work removing edits faggot ass piece of shit nice work removing edits faggot ass piece of shit nice work removing edits faggot ass piece of shit nice work removing edits faggot ass piece of shit nice work removing edits faggot ass piece of shit nice work removing edits faggot ass piece of shit nice work removing edits faggot ass piece of shit nice work removing edits faggot ass piece of shit nice work removing edits faggot ass piece of shit nice work removing edits faggot ass piece of shit nice work removing edits faggot ass piece of shit nice work removing edits faggot ass piece of shit nice work removing edits faggot ass piece of shit nice work removing edits faggot ass piece of shit nice work removing edits faggot ass piece of shit nice work removing edits faggot ass piece of shit nice work removing edits faggot ass piece of shit nice work removing edits faggot ass piece of shit nice work removing edits faggot ass piece of shit nice work removing edits faggot ass piece of shit nice work removing edits faggot ass piece of shit nice work removing edits faggot ass piece of shit nice work removing edits faggot ass piece of shit nice work removing edits faggot ass piece of shit nice work removing edits faggot ass piece of shit nice work removing edits faggot ass piece of shit nice work removing edits faggot ass piece of shit nice work removing edits faggot ass piece of shit nice work removing edits faggot ass piece of shit ni'\n",
      " 'buttsecks buttsecks buttsecks buttsecks buttsecks buttsecks buttsecks buttsecks buttsecks buttsecks buttsecks buttsecks buttsecks buttsecks buttsecks buttsecks buttsecks buttsecks buttsecks buttsecks buttsecks buttsecks buttsecks buttsecks buttsecks buttsecks buttsecks buttsecks buttsecks buttsecks buttsecks buttsecks buttsecks buttsecks buttsecks buttsecks buttsecks buttsecks buttsecks buttsecks buttsecks buttsecks buttsecks buttsecks buttsecks buttsecks buttsecks buttsecks buttsecks buttsecks buttsecks buttsecks buttsecks buttsecks buttsecks buttsecks buttsecks buttsecks buttsecks buttsecks buttsecks buttsecks buttsecks buttsecks buttsecks buttsecks buttsecks buttsecks buttsecks buttsecks buttsecks buttsecks buttsecks buttsecks buttsecks buttsecks buttsecks buttsecks buttsecks buttsecks buttsecks buttsecks buttsecks buttsecks buttsecks buttsecks buttsecks buttsecks buttsecks buttsecks buttsecks buttsecks buttsecks buttsecks buttsecks buttsecks buttsecks buttsecks buttsecks buttsecks buttsecks buttsecks buttsecks buttsecks buttsecks buttsecks buttsecks buttsecks buttsecks buttsecks buttsecks buttsecks buttsecks buttsecks buttsecks buttsecks buttsecks buttsecks buttsecks buttsecks buttsecks buttsecks buttsecks buttsecks buttsecks buttsecks buttsecks buttsecks buttsecks buttsecks buttsecks buttsecks buttsecks buttsecks buttsecks buttsecks buttsecks buttsecks buttsecks buttsecks buttsecks buttsecks buttsecks buttsecks buttsecks buttsecks buttsecks buttsecks buttsecks buttsecks buttsecks buttsecks buttsecks buttsecks buttsecks buttsecks buttsecks buttsecks buttsecks buttsecks buttsecks buttsecks buttsecks buttsecks buttsecks buttsecks buttsecks buttsecks buttsecks buttsecks buttsecks buttsecks buttsecks buttsecks buttsecks buttsecks buttsecks buttsecks buttsecks buttsecks buttsecks buttsecks buttsecks buttsecks buttsecks buttsecks buttsecks buttsecks buttsecks buttsecks buttsecks buttsecks buttsecks buttsecks buttsecks buttsecks buttsecks buttsecks buttsecks buttsecks buttsecks buttsecks buttsecks buttsecks buttsecks buttsecks buttsecks buttsecks buttsecks buttsecks buttsecks buttsecks buttsecks buttsecks buttsecks buttsecks buttsecks buttsecks buttsecks buttsecks buttsecks buttsecks buttsecks buttsecks buttsecks buttsecks buttsecks buttsecks buttsecks buttsecks buttsecks buttsecks buttsecks buttsecks buttsecks buttsecks buttsecks buttsecks buttsecks buttsecks buttsecks buttsecks buttsecks buttsecks buttsecks buttsecks buttsecks buttsecks buttsecks buttsecks buttsecks buttsecks buttsecks buttsecks buttsecks buttsecks buttsecks buttsecks buttsecks buttsecks buttsecks buttsecks buttsecks buttsecks buttsecks buttsecks buttsecks buttsecks buttsecks buttsecks buttsecks buttsecks buttsecks buttsecks buttsecks buttsecks buttsecks buttsecks buttsecks buttsecks buttsecks buttsecks buttsecks buttsecks buttsecks buttsecks buttsecks buttsecks buttsecks buttsecks buttsecks buttsecks buttsecks buttsecks buttsecks buttsecks buttsecks buttsecks buttsecks buttsecks buttsecks buttsecks buttsecks buttsecks buttsecks buttsecks buttsecks buttsecks buttsecks buttsecks buttsecks buttsecks buttsecks buttsecks buttsecks buttsecks buttsecks buttsecks buttsecks buttsecks buttsecks buttsecks buttsecks buttsecks buttsecks buttsecks buttsecks buttsecks buttsecks buttsecks buttsecks buttsecks buttsecks buttsecks buttsecks buttsecks buttsecks buttsecks buttsecks buttsecks buttsecks buttsecks buttsecks buttsecks buttsecks buttsecks buttsecks buttsecks buttsecks buttsecks buttsecks buttsecks buttsecks buttsecks buttsecks buttsecks buttsecks buttsecks buttsecks buttsecks buttsecks buttsecks buttsecks buttsecks buttsecks buttsecks buttsecks buttsecks buttsecks buttsecks buttsecks buttsecks buttsecks buttsecks buttsecks buttsecks buttsecks buttsecks buttsecks buttsecks buttsecks buttsecks buttsecks buttsecks buttsecks buttsecks buttsecks buttsecks buttsecks buttsecks buttsecks buttsecks buttsecks buttsecks buttsecks buttsecks buttsecks buttsecks buttsecks buttsecks buttsecks buttsecks buttsecks buttsecks buttsecks buttsecks buttsecks buttsecks buttsecks buttsecks buttsecks buttsecks buttsecks buttsecks buttsecks buttsecks buttsecks buttsecks buttsecks buttsecks buttsecks buttsecks buttsecks buttsecks buttsecks buttsecks buttsecks buttsecks buttsecks buttsecks buttsecks buttsecks buttsecks buttsecks buttsecks buttsecks buttsecks buttsecks buttsecks buttsecks buttsecks buttsecks buttsecks buttsecks buttsecks buttsecks buttsecks buttsecks buttsecks buttsecks buttsecks buttsecks buttsecks buttsecks buttsecks buttsecks buttsecks buttsecks buttsecks buttsecks buttsecks buttsecks buttsecks buttsecks buttsecks buttsecks buttsecks buttsecks buttsecks buttsecks buttsecks buttsecks buttsecks buttsecks buttsecks buttsecks buttsecks buttsecks buttsecks buttsecks buttsecks buttsecks buttsecks buttsecks buttsecks buttsecks buttsecks buttsecks buttsecks buttsecks buttsecks buttsecks buttsecks buttsecks buttsecks buttsecks buttsecks'\n",
      " 'fuck chester marcol  \\n\\n fuck chester marc olf uck chester marc olf uck chester marc olf uck chester marc olf uck chester marc olf uck chester marc olf uck chester marc olf uck chester marc olf uck chester marc olf uck chester marc olf uck chester marc olf uck chester marc olf uck chester marc olf uck chester marc olf uck chester marc olf uck chester marc olf uck chester marc olf uck chester marc olf uck chester marc olf uck chester marc olf uck chester marc olf uck chester marc olf uck chester marc olf uck chester marc olf uck chester marc olf uck chester marc olf uck chester marc olf uck chester marc olf uck chester marc olf uck chester marc olf uck chester marc olf uck chester marc olf uck chester marc olf uck chester marc olf uck chester marc olf uck chester marc olf uck chester marc olf uck chester marc olf uck chester marc olf uck chester marc olf uck chester marc olf uck chester marc olf uck chester marc olf uck chester marc olf uck chester marc olf uck chester marc olf uck chester marc olf uck chester marc olf uck chester marc olf uck chester marc olf uck chester marc olf uck chester marc olf uck chester marc olf uck chester marc olf uck chester marc olf uck chester marc olf uck chester marc olf uck chester marc olf uck chester marc olf uck chester marc olf uck chester marc olf uck chester marc olf uck chester marc olf uck chester marc olf uck chester marc olf uck chester marc olf uck chester marc olf uck chester marc olf uck chester marc olf uck chester marc olf uck chester marc olf uck chester marc olf uck chester marc olf uck chester marc olf uck chester marc olf uck chester marc olf uck chester marc olf uck chester marc olf uck chester marc olf uck chester marc olf uck chester marc olf uck chester marc olf uck chester marc olf uck chester marc olf uck chester marc olf uck chester marc olf uck chester marc olf uck chester marc olf uck chester marc olf uck chester marc olf uck chester marc olf uck chester marc olf uck chester marc olf uck chester marc olf uck chester marc olf uck chester marc olf uck chester marc olf uck chester marc olf uck chester marc olf uck chester marc olf uck chester marc olf uck chester marc olf uck chester marc olf uck chester marc olf uck chester marc olf uck chester marc olf uck chester marc olf uck chester marc olf uck chester marc olf uck chester marc olf uck chester marc olf uck chester marc olf uck chester marc olf uck chester marc olf uck chester marc olf uck chester marc olf uck chester marc olf uck chester marc olf uck chester marc olf uck chester marc olf uck chester marc olf uck chester marc olf uck chester marc olf uck chester marc olf uck chester marc olf uck chester marc olf uck chester marc olf uck chester marc olf uck chester marc olf uck chester marc olf uck chester marc olf uck chester marc olf uck chester marc olf uck chester marc olf uck chester marc olf uck chester marc olf uck chester marc olf uck chester marc olf uck chester marc olf uck chester marc olf uck chester marc olf uck chester marc olf uck chester marc olf uck chester marc olf uck chester marc olf uck chester marc olf uck chester marc olf uck chester marc olf uck chester marc olf uck chester marc olf uck chester marc olf uck chester marc olf uck chester marc olf uck chester marc olf uck chester marc olf uck chester marc olf uck chester marc olf uck chester marc olf uck chester marc olf uck chester marc olf uck chester marc olf uck chester marc olf uck chester marc olf uck chester marc olf uck chester marc olf uck chester marc olf uck chester marc olf uck chester marc olf uck chester marc olf uck chester marc olf uck chester marc olf uck chester marc olf uck chester marc olf uck chester marc olf uck chester marc olf uck chester marc olf uck chester marc olf uck chester marc olf uck chester marc olf uck chester marc olf uck chester marc olf uck chester marc olf uck chester marc olf uck chester marc olf uck chester marc olf uck chester marc olf uck chester marc olf uck chester marc olf uck chester marc olf uck chester marc olf uck chester marc olf uck chester marc olf uck chester marc olf uck chester marc olf uck chester marc olf uck chester marc olf uck chester marc olf uck chester marc olf uck chester marc olf uck chester marc olf uck chester marc olf uck chester marc olf uck chester marc olf uck chester marc olf uck chester marc olf uck chester marc olf uck chester marc olf uck chester marc olf uck chester marc olf uck chester marc olf uck chester marc olf uck chester marc olf uck chester marc olf uck chester marc olf uck chester marc olf uck chester marc olf uck chester marc olf uck chester marc olf uck chester marc olf uck chester marc olf uck chester marc olf uck chester marc olf uck chester marc olf uck chester marc olf uck chester marc olf uck chester marc olf uck chester marc olf uck chester marc olf uck chester marc olf uck chester marc olf uck chester marc olf uck chester marc olf uck chester marc olf uck chester marc olf uck chester marc olf uck chester marc olf uck chester marc olf uck chester marc olf uck chester marc olf uck chester marc olf uck chester marc olf uck chester marc olf uck chester marc olf uck chester marc olf uck chester marc olf uck chester marc olf uck chester marc olf uck chester marc olf uck chester marc olf uck chester marc olf uck chester marc olf uck chester marc olf uck chester marc olf uck chester marc olf uck chester marc olf uck chester marc olf uck chester marc olf uck chester marc olf uck chester marc olf uck chester marc olf uck ch']\n",
      "Some corrected sample are ['fuck u bitches fuck u bitches fuck u bitches fuck u bitches fuck u bitches fuck u bitches fuck u bitches fuck u bitches fuck u bitches fuck'\n",
      " 'suxk my dick  \\n\\n you failed again to block me wikipedians  \\n\\n ha ha  \\n\\n for some nice big juicy sweet cock  \\n my'\n",
      " 'jé ské cour iano is a stupid faggot  \\n\\n jé ské cour iano is a stupid faggot jé ské cour iano is a stupid faggot jé ské'\n",
      " 'not rh by south ban of sucks cocks  \\n not rh by south ban of sucks cocks  \\n not rh by south ban of sucks cocks'\n",
      " 'vagina vagina vagina vagina vagina vagina vagina vagina vagina vagina vagina vagina vagina vagina vagina vagina vagina vagina vagina vagina vagina vagina vagina vagina vagina vagina vagina vagina']\n"
     ]
    },
    {
     "data": {
      "text/plain": [
       "array([' \\n\\n wikipedia has a new administrator  \\n thanks thank you for voicing your opinion in my rfa which passed with supports opposes and neutrals thanks for your support i really appreciate it i hope to exceed expectations if you have any advice please feel free to let me know thanks again',\n",
       "       'your statement that she has “ ref used to talk about the matter all together ” is patently false in response to a t v show host ’ s question “ how are you responding to the rumors about you and eddie cibrian ” leann replied “ you know what everything is so not black and white ” and on another show regis and kelly the same response “ everything people read is not ... it ’ s not as easy as black and white ” also noteworthy is her statement on her blog that “ this is a difficult time for me and my loved ones ” – again with a complete absence of any denial of the affair no one has seriously argued that it was not her or eddie in the video and i submit that any attempt to do so would simply call into question either the arg uer ’ s intelligence cf moon landing hoax or else his or her neutrality but really none of this matters because – as i said – i completely agree with you that this is currently not wikipedia material this is not to say of course that it won ’ t become wikipedia material i ’ m not going to lecture you on what might cause this to become wikipedia material because – assuming that you ’ re as experienced an editor as you say you are – you will already know suffice it to say however that there are myriad entries of affairs on wikipedia profiles and even a cursory look at any of them sheds light on some common features of all i am sorry if i offended you by calling into question your neutrality as wikipedians we should all strive toward verifiability and away from bias in keeping with these tenants i can guarantee you that if this affair rises to the level of verifiability and importance both in terms of mainstream media attention and cultural impact that warrants inclusion i will not be alone in fulfilling my duty as a responsible wikipedian to support inclusion of said affair best j m',\n",
       "       'i think it would help if you did some enforcement regimes are progressive the arbitrators decide on this in their final decision in the arbitration and administrators take the history of past infractions into account in calculating a reasonable block period tony sidaway',\n",
       "       'please stop if you continue to blank out or delete portions of page content templates or other materials from wikipedia as you did to reconquista you will be blocked from editing',\n",
       "       'your edit to ghost  \\n\\n subst test ghost talk',\n",
       "       'also peac el ove harmony when speaking of http en wikipedia org w index php title vegetarianism diff oldid  \\n summer ph ds revert above i see that you that didnt mention the mayo clinic source this one its also worth noting that the debated paragraph had been removed and restored two weeks before you removed it http en wikipedia org w index php title vegetarianism diff oldid',\n",
       "       'sounds like a violation of wp sock to me unblock declined —',\n",
       "       'you two are something else  \\n you just gave your total bias  \\n you two have no business editing this page considering your obvious pov  \\n',\n",
       "       'your edit to tourette syndrome \\n please do not add nonsense to wikipedia it is considered vandalism if you would like to experiment use the sandbox thank you',\n",
       "       'bhat arka was a general in the army of gupta king skand agupta and was a military governor of saurashtra peninsula he is believed to be the founder of the ma itr aka dynasty of val abhi'],\n",
       "      dtype=object)"
      ]
     },
     "execution_count": 49,
     "metadata": {},
     "output_type": "execute_result"
    }
   ],
   "source": [
    "embed_file =\"../utility/glove.42B.300d.txt\"\n",
    "sp_file = \"../utility/en.wiki.bpe.op200000.model\"\n",
    "\n",
    "train.comment_text = preprocess_text(train.comment_text, break_vocab_file=embed_file, break_sp_file=sp_file)\n",
    "train.comment_text.sample(10).values"
   ]
  },
  {
   "cell_type": "code",
   "execution_count": null,
   "metadata": {},
   "outputs": [],
   "source": []
  }
 ],
 "metadata": {
  "kernelspec": {
   "display_name": "Python 3",
   "language": "python",
   "name": "python3"
  },
  "language_info": {
   "codemirror_mode": {
    "name": "ipython",
    "version": 3
   },
   "file_extension": ".py",
   "mimetype": "text/x-python",
   "name": "python",
   "nbconvert_exporter": "python",
   "pygments_lexer": "ipython3",
   "version": "3.6.4"
  }
 },
 "nbformat": 4,
 "nbformat_minor": 2
}
