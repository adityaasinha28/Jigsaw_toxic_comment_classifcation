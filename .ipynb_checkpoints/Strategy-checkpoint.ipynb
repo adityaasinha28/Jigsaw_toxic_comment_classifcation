{
 "cells": [
  {
   "cell_type": "markdown",
   "metadata": {},
   "source": [
    "# Notebook to maintain strategy for competition"
   ]
  },
  {
   "cell_type": "markdown",
   "metadata": {},
   "source": [
    "### Date: 28/02/2017\n",
    "\n",
    "* Simple GRU network with pretrained vectors for initialization\n",
    "    * Preprocessing - removing stop words, punctuations and /n\n",
    "    * Pretrained embeddings  - Glove 42B300d; FasText 2M300d; Word2vec gensim trained on current corpus\n",
    "    * Network architectures \n",
    "        * Bidirectional\n",
    "        * MaxPool, AvgPool and AttentionPool (individual and all together)\n",
    "    * Optimizers - Adam and RMSprop\n",
    "    * Hyperparameters tuning with Hyperopt\n",
    "    \n",
    "* LSTM-GRNN (tang et. al) - Encode words followed by sentence\n",
    "    * http://aclweb.org/anthology/D15-1167\n",
    "    * Avg, Max, Attention\n",
    "\n",
    "* Hierarchical Attention Networks for Document Classification\n",
    "    * http://aclweb.org/anthology/N/N16/N16-1174.pdf\n",
    "        \n",
    "* Sub-word embeddings for OOV words\n",
    "\n",
    "* Char RNN with learned embeddings as target to encode OOV words"
   ]
  },
  {
   "cell_type": "code",
   "execution_count": null,
   "metadata": {},
   "outputs": [],
   "source": []
  }
 ],
 "metadata": {
  "kernelspec": {
   "display_name": "Python 3",
   "language": "python",
   "name": "python3"
  },
  "language_info": {
   "codemirror_mode": {
    "name": "ipython",
    "version": 3
   },
   "file_extension": ".py",
   "mimetype": "text/x-python",
   "name": "python",
   "nbconvert_exporter": "python",
   "pygments_lexer": "ipython3",
   "version": "3.6.4"
  }
 },
 "nbformat": 4,
 "nbformat_minor": 2
}
